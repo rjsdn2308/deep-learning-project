{
  "nbformat": 4,
  "nbformat_minor": 0,
  "metadata": {
    "colab": {
      "provenance": [],
      "mount_file_id": "https://github.com/rjsdn2308/deep-learning-project/blob/main/%EC%B0%A8%EB%9F%89_%EB%8F%84%EB%82%9C_%EB%B0%A9%EC%A7%80.ipynb",
      "authorship_tag": "ABX9TyNYsDzV4iEHLXxP5WwVWemV",
      "include_colab_link": true
    },
    "kernelspec": {
      "name": "python3",
      "display_name": "Python 3"
    },
    "language_info": {
      "name": "python"
    }
  },
  "cells": [
    {
      "cell_type": "markdown",
      "metadata": {
        "id": "view-in-github",
        "colab_type": "text"
      },
      "source": [
        "<a href=\"https://colab.research.google.com/github/rjsdn2308/deep-learning-project/blob/main/%EC%B0%A8%EB%9F%89_%EB%8F%84%EB%82%9C_%EB%B0%A9%EC%A7%80.ipynb\" target=\"_parent\"><img src=\"https://colab.research.google.com/assets/colab-badge.svg\" alt=\"Open In Colab\"/></a>"
      ]
    },
    {
      "cell_type": "code",
      "source": [
        "!pip install folium # folium은 파이썬에서 Leaflet.js 기반의 지도를 표시하게 할 수 있는 라이브러리입니다."
      ],
      "metadata": {
        "id": "WFKkv6PwR9Qj",
        "outputId": "234aeccd-d865-4de8-fedf-7b41f6a032de",
        "colab": {
          "base_uri": "https://localhost:8080/"
        }
      },
      "execution_count": 7,
      "outputs": [
        {
          "output_type": "stream",
          "name": "stdout",
          "text": [
            "Requirement already satisfied: folium in /usr/local/lib/python3.11/dist-packages (0.19.6)\n",
            "Requirement already satisfied: branca>=0.6.0 in /usr/local/lib/python3.11/dist-packages (from folium) (0.8.1)\n",
            "Requirement already satisfied: jinja2>=2.9 in /usr/local/lib/python3.11/dist-packages (from folium) (3.1.6)\n",
            "Requirement already satisfied: numpy in /usr/local/lib/python3.11/dist-packages (from folium) (2.0.2)\n",
            "Requirement already satisfied: requests in /usr/local/lib/python3.11/dist-packages (from folium) (2.32.3)\n",
            "Requirement already satisfied: xyzservices in /usr/local/lib/python3.11/dist-packages (from folium) (2025.4.0)\n",
            "Requirement already satisfied: MarkupSafe>=2.0 in /usr/local/lib/python3.11/dist-packages (from jinja2>=2.9->folium) (3.0.2)\n",
            "Requirement already satisfied: charset-normalizer<4,>=2 in /usr/local/lib/python3.11/dist-packages (from requests->folium) (3.4.2)\n",
            "Requirement already satisfied: idna<4,>=2.5 in /usr/local/lib/python3.11/dist-packages (from requests->folium) (3.10)\n",
            "Requirement already satisfied: urllib3<3,>=1.21.1 in /usr/local/lib/python3.11/dist-packages (from requests->folium) (2.4.0)\n",
            "Requirement already satisfied: certifi>=2017.4.17 in /usr/local/lib/python3.11/dist-packages (from requests->folium) (2025.4.26)\n"
          ]
        }
      ]
    },
    {
      "cell_type": "code",
      "source": [
        "import pandas as pd\n",
        "from sklearn.model_selection import train_test_split\n",
        "from sklearn.preprocessing import StandardScaler, OneHotEncoder\n",
        "from sklearn.compose import ColumnTransformer\n",
        "from sklearn.pipeline import Pipeline\n",
        "import tensorflow as tf\n",
        "from tensorflow.keras.models import Sequential\n",
        "from tensorflow.keras.layers import Dense"
      ],
      "metadata": {
        "id": "uLUCrEFPeJVl"
      },
      "execution_count": 8,
      "outputs": []
    },
    {
      "cell_type": "markdown",
      "source": [
        "# 1-1. 데이터 불러오기\n"
      ],
      "metadata": {
        "id": "R8z9Y-cGrO6D"
      }
    },
    {
      "cell_type": "code",
      "source": [
        "# 데이터 불러오기\n",
        "df = pd.read_csv(\"/content/drive/MyDrive/2025-1/dl/CarPrice.csv\")"
      ],
      "metadata": {
        "id": "M2HSUVineQ2E"
      },
      "execution_count": 9,
      "outputs": []
    },
    {
      "cell_type": "markdown",
      "source": [
        "# 1-2. 주요 열 제거 및 타겟 정의\n",
        "- car_ID, CarName은 고유 식별자로 모델링에 필요 없습니다.\n",
        "- price는 예측 대상(Target)"
      ],
      "metadata": {
        "id": "W3hQZcrqeVvO"
      }
    },
    {
      "cell_type": "code",
      "source": [
        "# 특징 & 타겟 분리\n",
        "X = df.drop(['car_ID', 'CarName', 'price'], axis=1)\n",
        "y = df['price']"
      ],
      "metadata": {
        "id": "0ykVQ3x5ef4X"
      },
      "execution_count": 10,
      "outputs": []
    },
    {
      "cell_type": "markdown",
      "source": [
        "#1-3. 수치형/범주형 열 분리"
      ],
      "metadata": {
        "id": "iFeZbrn1eyXK"
      }
    },
    {
      "cell_type": "code",
      "source": [
        "# 수치형 & 범주형 분리\n",
        "numerical = X.select_dtypes(include=['int64', 'float64']).columns.tolist()\n",
        "categorical = X.select_dtypes(include=['object']).columns.tolist()"
      ],
      "metadata": {
        "id": "0FH7nT5ee4w1"
      },
      "execution_count": 11,
      "outputs": []
    },
    {
      "cell_type": "markdown",
      "source": [
        "#1-4. 전처리 파이프라인 구성\n",
        "- 수치형 데이터는 표준화\n",
        "- 범주형 데이터는 원-핫 인코딩"
      ],
      "metadata": {
        "id": "TIuxYnOQe7Wk"
      }
    },
    {
      "cell_type": "code",
      "source": [
        "# 전처리 파이프라인\n",
        "preprocessor = ColumnTransformer([\n",
        "    ('num', StandardScaler(), numerical),\n",
        "    ('cat', OneHotEncoder(handle_unknown='ignore'), categorical)\n",
        "])"
      ],
      "metadata": {
        "id": "Ij0_43BQfCbT"
      },
      "execution_count": 12,
      "outputs": []
    },
    {
      "cell_type": "code",
      "source": [
        "# 전체 파이프라인 구성\n",
        "model_pipeline = Pipeline(steps=[\n",
        "    ('preprocessor', preprocessor)\n",
        "])"
      ],
      "metadata": {
        "id": "5jZ-PkVrfasE"
      },
      "execution_count": 13,
      "outputs": []
    },
    {
      "cell_type": "markdown",
      "source": [
        "#1-5. 전처리 파이프라인 적용"
      ],
      "metadata": {
        "id": "4kAzDEd3fdWr"
      }
    },
    {
      "cell_type": "code",
      "source": [
        "# 전처리된 데이터 준비\n",
        "X_processed = model_pipeline.fit_transform(X)"
      ],
      "metadata": {
        "id": "1Lt_SHMgfi3m"
      },
      "execution_count": 14,
      "outputs": []
    },
    {
      "cell_type": "markdown",
      "source": [
        "#1-6. 훈련/테스트 데이터 분할"
      ],
      "metadata": {
        "id": "eQSLsX6PfkDo"
      }
    },
    {
      "cell_type": "code",
      "source": [
        "# 훈련/검증 분리\n",
        "X_train, X_test, y_train, y_test = train_test_split(X_processed, y, test_size=0.2, random_state=42)"
      ],
      "metadata": {
        "id": "xabOA_FSfi0A"
      },
      "execution_count": 15,
      "outputs": []
    },
    {
      "cell_type": "markdown",
      "source": [
        "#2. 딥러닝 모델 구성\n",
        "- 회귀(Regression) 문제로 구성되어 마지막 출력층에 활성화 함수 없음.\n",
        "\n",
        "- 성능 평가: Mean Squared Error (MSE), Mean Absolute Error (MAE)"
      ],
      "metadata": {
        "id": "929Ep97vfs1o"
      }
    },
    {
      "cell_type": "code",
      "source": [
        "# 딥러닝 모델 구성\n",
        "model = Sequential([\n",
        "    Dense(64, activation='relu', input_shape=(X_train.shape[1],)),\n",
        "    Dense(32, activation='relu'),\n",
        "    Dense(1)  # price 예측\n",
        "])\n",
        "\n",
        "# 컴파일\n",
        "model.compile(optimizer='adam', loss='mse', metrics=['mae'])\n",
        "\n",
        "# 학습\n",
        "model.fit(X_train, y_train, epochs=50, batch_size=16, validation_split=0.2)\n"
      ],
      "metadata": {
        "id": "zBAr4llgFiUO",
        "outputId": "6baf1c64-308f-4aef-d284-8e1a7c137d47",
        "colab": {
          "base_uri": "https://localhost:8080/"
        }
      },
      "execution_count": 16,
      "outputs": [
        {
          "output_type": "stream",
          "name": "stderr",
          "text": [
            "/usr/local/lib/python3.11/dist-packages/keras/src/layers/core/dense.py:87: UserWarning: Do not pass an `input_shape`/`input_dim` argument to a layer. When using Sequential models, prefer using an `Input(shape)` object as the first layer in the model instead.\n",
            "  super().__init__(activity_regularizer=activity_regularizer, **kwargs)\n"
          ]
        },
        {
          "output_type": "stream",
          "name": "stdout",
          "text": [
            "Epoch 1/50\n",
            "\u001b[1m9/9\u001b[0m \u001b[32m━━━━━━━━━━━━━━━━━━━━\u001b[0m\u001b[37m\u001b[0m \u001b[1m4s\u001b[0m 71ms/step - loss: 211247808.0000 - mae: 12680.3438 - val_loss: 317931200.0000 - val_mae: 15082.5859\n",
            "Epoch 2/50\n",
            "\u001b[1m9/9\u001b[0m \u001b[32m━━━━━━━━━━━━━━━━━━━━\u001b[0m\u001b[37m\u001b[0m \u001b[1m0s\u001b[0m 30ms/step - loss: 218944160.0000 - mae: 12991.0938 - val_loss: 317906848.0000 - val_mae: 15081.8125\n",
            "Epoch 3/50\n",
            "\u001b[1m9/9\u001b[0m \u001b[32m━━━━━━━━━━━━━━━━━━━━\u001b[0m\u001b[37m\u001b[0m \u001b[1m1s\u001b[0m 25ms/step - loss: 243037760.0000 - mae: 13452.9551 - val_loss: 317878912.0000 - val_mae: 15080.9238\n",
            "Epoch 4/50\n",
            "\u001b[1m9/9\u001b[0m \u001b[32m━━━━━━━━━━━━━━━━━━━━\u001b[0m\u001b[37m\u001b[0m \u001b[1m0s\u001b[0m 30ms/step - loss: 223234960.0000 - mae: 12951.0684 - val_loss: 317842944.0000 - val_mae: 15079.7881\n",
            "Epoch 5/50\n",
            "\u001b[1m9/9\u001b[0m \u001b[32m━━━━━━━━━━━━━━━━━━━━\u001b[0m\u001b[37m\u001b[0m \u001b[1m0s\u001b[0m 17ms/step - loss: 219132528.0000 - mae: 13031.7500 - val_loss: 317795168.0000 - val_mae: 15078.2754\n",
            "Epoch 6/50\n",
            "\u001b[1m9/9\u001b[0m \u001b[32m━━━━━━━━━━━━━━━━━━━━\u001b[0m\u001b[37m\u001b[0m \u001b[1m0s\u001b[0m 19ms/step - loss: 205299664.0000 - mae: 12498.9297 - val_loss: 317728384.0000 - val_mae: 15076.2207\n",
            "Epoch 7/50\n",
            "\u001b[1m9/9\u001b[0m \u001b[32m━━━━━━━━━━━━━━━━━━━━\u001b[0m\u001b[37m\u001b[0m \u001b[1m0s\u001b[0m 20ms/step - loss: 233748672.0000 - mae: 13141.3027 - val_loss: 317636832.0000 - val_mae: 15073.4277\n",
            "Epoch 8/50\n",
            "\u001b[1m9/9\u001b[0m \u001b[32m━━━━━━━━━━━━━━━━━━━━\u001b[0m\u001b[37m\u001b[0m \u001b[1m0s\u001b[0m 48ms/step - loss: 200094464.0000 - mae: 12493.2959 - val_loss: 317511872.0000 - val_mae: 15069.6689\n",
            "Epoch 9/50\n",
            "\u001b[1m9/9\u001b[0m \u001b[32m━━━━━━━━━━━━━━━━━━━━\u001b[0m\u001b[37m\u001b[0m \u001b[1m0s\u001b[0m 32ms/step - loss: 185038048.0000 - mae: 12121.0488 - val_loss: 317343712.0000 - val_mae: 15064.6846\n",
            "Epoch 10/50\n",
            "\u001b[1m9/9\u001b[0m \u001b[32m━━━━━━━━━━━━━━━━━━━━\u001b[0m\u001b[37m\u001b[0m \u001b[1m1s\u001b[0m 25ms/step - loss: 236818912.0000 - mae: 13340.6992 - val_loss: 317126176.0000 - val_mae: 15058.2656\n",
            "Epoch 11/50\n",
            "\u001b[1m9/9\u001b[0m \u001b[32m━━━━━━━━━━━━━━━━━━━━\u001b[0m\u001b[37m\u001b[0m \u001b[1m0s\u001b[0m 31ms/step - loss: 258555504.0000 - mae: 13949.7197 - val_loss: 316851488.0000 - val_mae: 15050.1650\n",
            "Epoch 12/50\n",
            "\u001b[1m9/9\u001b[0m \u001b[32m━━━━━━━━━━━━━━━━━━━━\u001b[0m\u001b[37m\u001b[0m \u001b[1m1s\u001b[0m 26ms/step - loss: 248994080.0000 - mae: 13770.0693 - val_loss: 316515296.0000 - val_mae: 15040.1895\n",
            "Epoch 13/50\n",
            "\u001b[1m9/9\u001b[0m \u001b[32m━━━━━━━━━━━━━━━━━━━━\u001b[0m\u001b[37m\u001b[0m \u001b[1m0s\u001b[0m 21ms/step - loss: 206414176.0000 - mae: 12554.6348 - val_loss: 316103424.0000 - val_mae: 15027.9707\n",
            "Epoch 14/50\n",
            "\u001b[1m9/9\u001b[0m \u001b[32m━━━━━━━━━━━━━━━━━━━━\u001b[0m\u001b[37m\u001b[0m \u001b[1m0s\u001b[0m 17ms/step - loss: 190162480.0000 - mae: 12165.0039 - val_loss: 315560192.0000 - val_mae: 15012.3164\n",
            "Epoch 15/50\n",
            "\u001b[1m9/9\u001b[0m \u001b[32m━━━━━━━━━━━━━━━━━━━━\u001b[0m\u001b[37m\u001b[0m \u001b[1m0s\u001b[0m 19ms/step - loss: 188457936.0000 - mae: 11947.4277 - val_loss: 314902240.0000 - val_mae: 14993.4072\n",
            "Epoch 16/50\n",
            "\u001b[1m9/9\u001b[0m \u001b[32m━━━━━━━━━━━━━━━━━━━━\u001b[0m\u001b[37m\u001b[0m \u001b[1m0s\u001b[0m 24ms/step - loss: 216026384.0000 - mae: 12849.9160 - val_loss: 314094304.0000 - val_mae: 14970.2510\n",
            "Epoch 17/50\n",
            "\u001b[1m9/9\u001b[0m \u001b[32m━━━━━━━━━━━━━━━━━━━━\u001b[0m\u001b[37m\u001b[0m \u001b[1m0s\u001b[0m 20ms/step - loss: 186678016.0000 - mae: 11986.8965 - val_loss: 313180032.0000 - val_mae: 14943.8574\n",
            "Epoch 18/50\n",
            "\u001b[1m9/9\u001b[0m \u001b[32m━━━━━━━━━━━━━━━━━━━━\u001b[0m\u001b[37m\u001b[0m \u001b[1m0s\u001b[0m 19ms/step - loss: 232984096.0000 - mae: 13457.2344 - val_loss: 312104320.0000 - val_mae: 14912.9678\n",
            "Epoch 19/50\n",
            "\u001b[1m9/9\u001b[0m \u001b[32m━━━━━━━━━━━━━━━━━━━━\u001b[0m\u001b[37m\u001b[0m \u001b[1m0s\u001b[0m 30ms/step - loss: 218157696.0000 - mae: 12829.0947 - val_loss: 310820128.0000 - val_mae: 14876.4004\n",
            "Epoch 20/50\n",
            "\u001b[1m9/9\u001b[0m \u001b[32m━━━━━━━━━━━━━━━━━━━━\u001b[0m\u001b[37m\u001b[0m \u001b[1m1s\u001b[0m 36ms/step - loss: 227747472.0000 - mae: 12983.1699 - val_loss: 309345408.0000 - val_mae: 14834.5957\n",
            "Epoch 21/50\n",
            "\u001b[1m9/9\u001b[0m \u001b[32m━━━━━━━━━━━━━━━━━━━━\u001b[0m\u001b[37m\u001b[0m \u001b[1m1s\u001b[0m 52ms/step - loss: 198396640.0000 - mae: 12427.6367 - val_loss: 307695072.0000 - val_mae: 14787.4756\n",
            "Epoch 22/50\n",
            "\u001b[1m9/9\u001b[0m \u001b[32m━━━━━━━━━━━━━━━━━━━━\u001b[0m\u001b[37m\u001b[0m \u001b[1m0s\u001b[0m 24ms/step - loss: 210779488.0000 - mae: 12682.8076 - val_loss: 305787776.0000 - val_mae: 14733.5947\n",
            "Epoch 23/50\n",
            "\u001b[1m9/9\u001b[0m \u001b[32m━━━━━━━━━━━━━━━━━━━━\u001b[0m\u001b[37m\u001b[0m \u001b[1m0s\u001b[0m 32ms/step - loss: 211375152.0000 - mae: 12666.6367 - val_loss: 303739776.0000 - val_mae: 14674.9297\n",
            "Epoch 24/50\n",
            "\u001b[1m9/9\u001b[0m \u001b[32m━━━━━━━━━━━━━━━━━━━━\u001b[0m\u001b[37m\u001b[0m \u001b[1m1s\u001b[0m 50ms/step - loss: 208020144.0000 - mae: 12449.8301 - val_loss: 301403616.0000 - val_mae: 14608.5225\n",
            "Epoch 25/50\n",
            "\u001b[1m9/9\u001b[0m \u001b[32m━━━━━━━━━━━━━━━━━━━━\u001b[0m\u001b[37m\u001b[0m \u001b[1m0s\u001b[0m 39ms/step - loss: 182199344.0000 - mae: 11967.4268 - val_loss: 298903328.0000 - val_mae: 14536.7363\n",
            "Epoch 26/50\n",
            "\u001b[1m9/9\u001b[0m \u001b[32m━━━━━━━━━━━━━━━━━━━━\u001b[0m\u001b[37m\u001b[0m \u001b[1m1s\u001b[0m 32ms/step - loss: 215554944.0000 - mae: 12712.2471 - val_loss: 296020384.0000 - val_mae: 14454.5762\n",
            "Epoch 27/50\n",
            "\u001b[1m9/9\u001b[0m \u001b[32m━━━━━━━━━━━━━━━━━━━━\u001b[0m\u001b[37m\u001b[0m \u001b[1m0s\u001b[0m 45ms/step - loss: 187261808.0000 - mae: 11933.0107 - val_loss: 293078208.0000 - val_mae: 14368.9180\n",
            "Epoch 28/50\n",
            "\u001b[1m9/9\u001b[0m \u001b[32m━━━━━━━━━━━━━━━━━━━━\u001b[0m\u001b[37m\u001b[0m \u001b[1m0s\u001b[0m 45ms/step - loss: 187884400.0000 - mae: 11936.0361 - val_loss: 289664704.0000 - val_mae: 14270.7764\n",
            "Epoch 29/50\n",
            "\u001b[1m9/9\u001b[0m \u001b[32m━━━━━━━━━━━━━━━━━━━━\u001b[0m\u001b[37m\u001b[0m \u001b[1m0s\u001b[0m 38ms/step - loss: 186193872.0000 - mae: 11796.5439 - val_loss: 285817792.0000 - val_mae: 14161.6133\n",
            "Epoch 30/50\n",
            "\u001b[1m9/9\u001b[0m \u001b[32m━━━━━━━━━━━━━━━━━━━━\u001b[0m\u001b[37m\u001b[0m \u001b[1m0s\u001b[0m 42ms/step - loss: 179765856.0000 - mae: 11643.3184 - val_loss: 281778560.0000 - val_mae: 14045.8281\n",
            "Epoch 31/50\n",
            "\u001b[1m9/9\u001b[0m \u001b[32m━━━━━━━━━━━━━━━━━━━━\u001b[0m\u001b[37m\u001b[0m \u001b[1m0s\u001b[0m 42ms/step - loss: 185624016.0000 - mae: 11886.7080 - val_loss: 277578432.0000 - val_mae: 13923.8086\n",
            "Epoch 32/50\n",
            "\u001b[1m9/9\u001b[0m \u001b[32m━━━━━━━━━━━━━━━━━━━━\u001b[0m\u001b[37m\u001b[0m \u001b[1m0s\u001b[0m 37ms/step - loss: 211153808.0000 - mae: 12610.4707 - val_loss: 273270208.0000 - val_mae: 13796.8027\n",
            "Epoch 33/50\n",
            "\u001b[1m9/9\u001b[0m \u001b[32m━━━━━━━━━━━━━━━━━━━━\u001b[0m\u001b[37m\u001b[0m \u001b[1m0s\u001b[0m 14ms/step - loss: 171445488.0000 - mae: 11460.9971 - val_loss: 268796640.0000 - val_mae: 13662.3828\n",
            "Epoch 34/50\n",
            "\u001b[1m9/9\u001b[0m \u001b[32m━━━━━━━━━━━━━━━━━━━━\u001b[0m\u001b[37m\u001b[0m \u001b[1m0s\u001b[0m 11ms/step - loss: 163248672.0000 - mae: 10911.9209 - val_loss: 263636064.0000 - val_mae: 13510.0020\n",
            "Epoch 35/50\n",
            "\u001b[1m9/9\u001b[0m \u001b[32m━━━━━━━━━━━━━━━━━━━━\u001b[0m\u001b[37m\u001b[0m \u001b[1m0s\u001b[0m 11ms/step - loss: 167142704.0000 - mae: 11278.4580 - val_loss: 258213824.0000 - val_mae: 13348.4551\n",
            "Epoch 36/50\n",
            "\u001b[1m9/9\u001b[0m \u001b[32m━━━━━━━━━━━━━━━━━━━━\u001b[0m\u001b[37m\u001b[0m \u001b[1m0s\u001b[0m 11ms/step - loss: 164565072.0000 - mae: 11149.3730 - val_loss: 252669280.0000 - val_mae: 13180.4365\n",
            "Epoch 37/50\n",
            "\u001b[1m9/9\u001b[0m \u001b[32m━━━━━━━━━━━━━━━━━━━━\u001b[0m\u001b[37m\u001b[0m \u001b[1m0s\u001b[0m 10ms/step - loss: 125830096.0000 - mae: 9965.6172 - val_loss: 247368432.0000 - val_mae: 13014.2295\n",
            "Epoch 38/50\n",
            "\u001b[1m9/9\u001b[0m \u001b[32m━━━━━━━━━━━━━━━━━━━━\u001b[0m\u001b[37m\u001b[0m \u001b[1m0s\u001b[0m 15ms/step - loss: 142751296.0000 - mae: 10542.5830 - val_loss: 241211392.0000 - val_mae: 12824.6562\n",
            "Epoch 39/50\n",
            "\u001b[1m9/9\u001b[0m \u001b[32m━━━━━━━━━━━━━━━━━━━━\u001b[0m\u001b[37m\u001b[0m \u001b[1m0s\u001b[0m 11ms/step - loss: 153244832.0000 - mae: 10536.7295 - val_loss: 235106736.0000 - val_mae: 12631.8525\n",
            "Epoch 40/50\n",
            "\u001b[1m9/9\u001b[0m \u001b[32m━━━━━━━━━━━━━━━━━━━━\u001b[0m\u001b[37m\u001b[0m \u001b[1m0s\u001b[0m 15ms/step - loss: 183163264.0000 - mae: 11355.6250 - val_loss: 228810832.0000 - val_mae: 12430.9648\n",
            "Epoch 41/50\n",
            "\u001b[1m9/9\u001b[0m \u001b[32m━━━━━━━━━━━━━━━━━━━━\u001b[0m\u001b[37m\u001b[0m \u001b[1m0s\u001b[0m 11ms/step - loss: 156530432.0000 - mae: 10639.5010 - val_loss: 222270512.0000 - val_mae: 12218.1592\n",
            "Epoch 42/50\n",
            "\u001b[1m9/9\u001b[0m \u001b[32m━━━━━━━━━━━━━━━━━━━━\u001b[0m\u001b[37m\u001b[0m \u001b[1m0s\u001b[0m 11ms/step - loss: 142873360.0000 - mae: 10194.4824 - val_loss: 215750928.0000 - val_mae: 12002.2920\n",
            "Epoch 43/50\n",
            "\u001b[1m9/9\u001b[0m \u001b[32m━━━━━━━━━━━━━━━━━━━━\u001b[0m\u001b[37m\u001b[0m \u001b[1m0s\u001b[0m 11ms/step - loss: 143570432.0000 - mae: 9956.3486 - val_loss: 209367248.0000 - val_mae: 11784.8154\n",
            "Epoch 44/50\n",
            "\u001b[1m9/9\u001b[0m \u001b[32m━━━━━━━━━━━━━━━━━━━━\u001b[0m\u001b[37m\u001b[0m \u001b[1m0s\u001b[0m 16ms/step - loss: 130830848.0000 - mae: 9687.8867 - val_loss: 202648960.0000 - val_mae: 11553.6299\n",
            "Epoch 45/50\n",
            "\u001b[1m9/9\u001b[0m \u001b[32m━━━━━━━━━━━━━━━━━━━━\u001b[0m\u001b[37m\u001b[0m \u001b[1m0s\u001b[0m 11ms/step - loss: 134348656.0000 - mae: 9595.6475 - val_loss: 195682512.0000 - val_mae: 11309.8379\n",
            "Epoch 46/50\n",
            "\u001b[1m9/9\u001b[0m \u001b[32m━━━━━━━━━━━━━━━━━━━━\u001b[0m\u001b[37m\u001b[0m \u001b[1m0s\u001b[0m 11ms/step - loss: 113208880.0000 - mae: 9015.9268 - val_loss: 188873824.0000 - val_mae: 11064.5908\n",
            "Epoch 47/50\n",
            "\u001b[1m9/9\u001b[0m \u001b[32m━━━━━━━━━━━━━━━━━━━━\u001b[0m\u001b[37m\u001b[0m \u001b[1m0s\u001b[0m 15ms/step - loss: 115035128.0000 - mae: 8772.3154 - val_loss: 182004080.0000 - val_mae: 10813.7891\n",
            "Epoch 48/50\n",
            "\u001b[1m9/9\u001b[0m \u001b[32m━━━━━━━━━━━━━━━━━━━━\u001b[0m\u001b[37m\u001b[0m \u001b[1m0s\u001b[0m 11ms/step - loss: 137221024.0000 - mae: 9522.4668 - val_loss: 174928592.0000 - val_mae: 10551.0303\n",
            "Epoch 49/50\n",
            "\u001b[1m9/9\u001b[0m \u001b[32m━━━━━━━━━━━━━━━━━━━━\u001b[0m\u001b[37m\u001b[0m \u001b[1m0s\u001b[0m 11ms/step - loss: 107922800.0000 - mae: 8439.7627 - val_loss: 167941776.0000 - val_mae: 10286.2246\n",
            "Epoch 50/50\n",
            "\u001b[1m9/9\u001b[0m \u001b[32m━━━━━━━━━━━━━━━━━━━━\u001b[0m\u001b[37m\u001b[0m \u001b[1m0s\u001b[0m 11ms/step - loss: 118804016.0000 - mae: 8822.2305 - val_loss: 160989248.0000 - val_mae: 10015.0957\n"
          ]
        },
        {
          "output_type": "execute_result",
          "data": {
            "text/plain": [
              "<keras.src.callbacks.history.History at 0x7ffacd6e0550>"
            ]
          },
          "metadata": {},
          "execution_count": 16
        }
      ]
    },
    {
      "cell_type": "markdown",
      "source": [
        "#Cclass.csv 파일 불러오기"
      ],
      "metadata": {
        "id": "o_yLinYYF8QB"
      }
    },
    {
      "cell_type": "code",
      "source": [
        "import pandas as pd\n",
        "from sklearn.model_selection import train_test_split\n",
        "from sklearn.preprocessing import StandardScaler, OneHotEncoder\n",
        "from sklearn.compose import ColumnTransformer\n",
        "from sklearn.pipeline import Pipeline\n",
        "import tensorflow as tf\n",
        "from tensorflow.keras.models import Sequential\n",
        "from tensorflow.keras.layers import Dense\n",
        "\n",
        "# 데이터 불러오기\n",
        "df = pd.read_csv(\"/content/drive/MyDrive/2025-1/dl/cclass.csv\")\n",
        "\n",
        "# 타겟과 특성 분리\n",
        "X = df.drop(\"price\", axis=1)\n",
        "y = df[\"price\"]\n",
        "\n",
        "# 수치형과 범주형 특성 분리\n",
        "numerical_features = X.select_dtypes(include=['int64', 'float64']).columns.tolist()\n",
        "categorical_features = X.select_dtypes(include=['object']).columns.tolist()\n",
        "\n",
        "# 전처리 파이프라인\n",
        "preprocessor = ColumnTransformer([\n",
        "    (\"num\", StandardScaler(), numerical_features),\n",
        "    (\"cat\", OneHotEncoder(handle_unknown=\"ignore\"), categorical_features)\n",
        "])\n",
        "\n",
        "# 파이프라인 적용\n",
        "X_processed = preprocessor.fit_transform(X)\n",
        "\n",
        "# 데이터 분할\n",
        "X_train, X_test, y_train, y_test = train_test_split(X_processed, y, test_size=0.2, random_state=42)\n"
      ],
      "metadata": {
        "id": "cMkLJvs-F0ay"
      },
      "execution_count": 17,
      "outputs": []
    },
    {
      "cell_type": "code",
      "source": [
        "# 모델 정의\n",
        "model = Sequential([\n",
        "    Dense(128, activation='relu', input_shape=(X_train.shape[1],)),\n",
        "    Dense(64, activation='relu'),\n",
        "    Dense(1)  # 회귀이므로 출력층은 1개 (Linear)\n",
        "])\n",
        "\n",
        "# 모델 컴파일\n",
        "model.compile(optimizer='adam', loss='mean_squared_error', metrics=['mae'])\n",
        "\n",
        "# 모델 학습\n",
        "model.fit(X_train, y_train, epochs=50, batch_size=32, validation_split=0.2)\n"
      ],
      "metadata": {
        "id": "UtfSlkVvGCdr",
        "outputId": "20826ed4-88ef-4ded-d248-8e5bafb0ff5c",
        "colab": {
          "base_uri": "https://localhost:8080/"
        }
      },
      "execution_count": 18,
      "outputs": [
        {
          "output_type": "stream",
          "name": "stdout",
          "text": [
            "Epoch 1/50\n"
          ]
        },
        {
          "output_type": "stream",
          "name": "stderr",
          "text": [
            "/usr/local/lib/python3.11/dist-packages/keras/src/layers/core/dense.py:87: UserWarning: Do not pass an `input_shape`/`input_dim` argument to a layer. When using Sequential models, prefer using an `Input(shape)` object as the first layer in the model instead.\n",
            "  super().__init__(activity_regularizer=activity_regularizer, **kwargs)\n"
          ]
        },
        {
          "output_type": "stream",
          "name": "stdout",
          "text": [
            "\u001b[1m78/78\u001b[0m \u001b[32m━━━━━━━━━━━━━━━━━━━━\u001b[0m\u001b[37m\u001b[0m \u001b[1m2s\u001b[0m 6ms/step - loss: 637096000.0000 - mae: 23637.0801 - val_loss: 623619648.0000 - val_mae: 23338.3594\n",
            "Epoch 2/50\n",
            "\u001b[1m78/78\u001b[0m \u001b[32m━━━━━━━━━━━━━━━━━━━━\u001b[0m\u001b[37m\u001b[0m \u001b[1m0s\u001b[0m 4ms/step - loss: 635220672.0000 - mae: 23602.6836 - val_loss: 606890112.0000 - val_mae: 23009.0293\n",
            "Epoch 3/50\n",
            "\u001b[1m78/78\u001b[0m \u001b[32m━━━━━━━━━━━━━━━━━━━━\u001b[0m\u001b[37m\u001b[0m \u001b[1m0s\u001b[0m 4ms/step - loss: 592411392.0000 - mae: 22847.4141 - val_loss: 553118720.0000 - val_mae: 21932.6777\n",
            "Epoch 4/50\n",
            "\u001b[1m78/78\u001b[0m \u001b[32m━━━━━━━━━━━━━━━━━━━━\u001b[0m\u001b[37m\u001b[0m \u001b[1m0s\u001b[0m 3ms/step - loss: 551339968.0000 - mae: 21918.8418 - val_loss: 451958720.0000 - val_mae: 19757.5391\n",
            "Epoch 5/50\n",
            "\u001b[1m78/78\u001b[0m \u001b[32m━━━━━━━━━━━━━━━━━━━━\u001b[0m\u001b[37m\u001b[0m \u001b[1m0s\u001b[0m 4ms/step - loss: 418468320.0000 - mae: 19013.5469 - val_loss: 314337952.0000 - val_mae: 16340.3545\n",
            "Epoch 6/50\n",
            "\u001b[1m78/78\u001b[0m \u001b[32m━━━━━━━━━━━━━━━━━━━━\u001b[0m\u001b[37m\u001b[0m \u001b[1m0s\u001b[0m 3ms/step - loss: 282983424.0000 - mae: 15508.2178 - val_loss: 176978624.0000 - val_mae: 11970.2549\n",
            "Epoch 7/50\n",
            "\u001b[1m78/78\u001b[0m \u001b[32m━━━━━━━━━━━━━━━━━━━━\u001b[0m\u001b[37m\u001b[0m \u001b[1m0s\u001b[0m 3ms/step - loss: 159101280.0000 - mae: 10960.6211 - val_loss: 80010480.0000 - val_mae: 7441.5591\n",
            "Epoch 8/50\n",
            "\u001b[1m78/78\u001b[0m \u001b[32m━━━━━━━━━━━━━━━━━━━━\u001b[0m\u001b[37m\u001b[0m \u001b[1m0s\u001b[0m 3ms/step - loss: 68792376.0000 - mae: 6544.2173 - val_loss: 35685184.0000 - val_mae: 4377.8105\n",
            "Epoch 9/50\n",
            "\u001b[1m78/78\u001b[0m \u001b[32m━━━━━━━━━━━━━━━━━━━━\u001b[0m\u001b[37m\u001b[0m \u001b[1m0s\u001b[0m 4ms/step - loss: 27963856.0000 - mae: 3844.8953 - val_loss: 22537312.0000 - val_mae: 3348.0325\n",
            "Epoch 10/50\n",
            "\u001b[1m78/78\u001b[0m \u001b[32m━━━━━━━━━━━━━━━━━━━━\u001b[0m\u001b[37m\u001b[0m \u001b[1m1s\u001b[0m 3ms/step - loss: 22339822.0000 - mae: 3207.4441 - val_loss: 19140926.0000 - val_mae: 3152.8398\n",
            "Epoch 11/50\n",
            "\u001b[1m78/78\u001b[0m \u001b[32m━━━━━━━━━━━━━━━━━━━━\u001b[0m\u001b[37m\u001b[0m \u001b[1m0s\u001b[0m 4ms/step - loss: 18205304.0000 - mae: 3005.8213 - val_loss: 17854028.0000 - val_mae: 3072.6021\n",
            "Epoch 12/50\n",
            "\u001b[1m78/78\u001b[0m \u001b[32m━━━━━━━━━━━━━━━━━━━━\u001b[0m\u001b[37m\u001b[0m \u001b[1m0s\u001b[0m 3ms/step - loss: 18052134.0000 - mae: 3021.0100 - val_loss: 16989486.0000 - val_mae: 3010.7368\n",
            "Epoch 13/50\n",
            "\u001b[1m78/78\u001b[0m \u001b[32m━━━━━━━━━━━━━━━━━━━━\u001b[0m\u001b[37m\u001b[0m \u001b[1m0s\u001b[0m 3ms/step - loss: 19425758.0000 - mae: 2926.8645 - val_loss: 16402084.0000 - val_mae: 2962.5698\n",
            "Epoch 14/50\n",
            "\u001b[1m78/78\u001b[0m \u001b[32m━━━━━━━━━━━━━━━━━━━━\u001b[0m\u001b[37m\u001b[0m \u001b[1m0s\u001b[0m 4ms/step - loss: 17525020.0000 - mae: 2904.2205 - val_loss: 16011392.0000 - val_mae: 2927.0408\n",
            "Epoch 15/50\n",
            "\u001b[1m78/78\u001b[0m \u001b[32m━━━━━━━━━━━━━━━━━━━━\u001b[0m\u001b[37m\u001b[0m \u001b[1m0s\u001b[0m 4ms/step - loss: 19098088.0000 - mae: 2954.9907 - val_loss: 15634629.0000 - val_mae: 2901.7517\n",
            "Epoch 16/50\n",
            "\u001b[1m78/78\u001b[0m \u001b[32m━━━━━━━━━━━━━━━━━━━━\u001b[0m\u001b[37m\u001b[0m \u001b[1m1s\u001b[0m 5ms/step - loss: 16037701.0000 - mae: 2777.8049 - val_loss: 15357153.0000 - val_mae: 2877.6213\n",
            "Epoch 17/50\n",
            "\u001b[1m78/78\u001b[0m \u001b[32m━━━━━━━━━━━━━━━━━━━━\u001b[0m\u001b[37m\u001b[0m \u001b[1m1s\u001b[0m 5ms/step - loss: 14130785.0000 - mae: 2737.1895 - val_loss: 15132518.0000 - val_mae: 2857.0669\n",
            "Epoch 18/50\n",
            "\u001b[1m78/78\u001b[0m \u001b[32m━━━━━━━━━━━━━━━━━━━━\u001b[0m\u001b[37m\u001b[0m \u001b[1m1s\u001b[0m 6ms/step - loss: 14448343.0000 - mae: 2686.6697 - val_loss: 14955776.0000 - val_mae: 2840.8291\n",
            "Epoch 19/50\n",
            "\u001b[1m78/78\u001b[0m \u001b[32m━━━━━━━━━━━━━━━━━━━━\u001b[0m\u001b[37m\u001b[0m \u001b[1m1s\u001b[0m 6ms/step - loss: 15249227.0000 - mae: 2746.5486 - val_loss: 14749949.0000 - val_mae: 2829.4365\n",
            "Epoch 20/50\n",
            "\u001b[1m78/78\u001b[0m \u001b[32m━━━━━━━━━━━━━━━━━━━━\u001b[0m\u001b[37m\u001b[0m \u001b[1m1s\u001b[0m 6ms/step - loss: 16459394.0000 - mae: 2764.8840 - val_loss: 14579850.0000 - val_mae: 2810.9436\n",
            "Epoch 21/50\n",
            "\u001b[1m78/78\u001b[0m \u001b[32m━━━━━━━━━━━━━━━━━━━━\u001b[0m\u001b[37m\u001b[0m \u001b[1m0s\u001b[0m 3ms/step - loss: 17459528.0000 - mae: 2773.4663 - val_loss: 14414182.0000 - val_mae: 2799.0530\n",
            "Epoch 22/50\n",
            "\u001b[1m78/78\u001b[0m \u001b[32m━━━━━━━━━━━━━━━━━━━━\u001b[0m\u001b[37m\u001b[0m \u001b[1m0s\u001b[0m 4ms/step - loss: 15952920.0000 - mae: 2810.8279 - val_loss: 14281177.0000 - val_mae: 2787.2634\n",
            "Epoch 23/50\n",
            "\u001b[1m78/78\u001b[0m \u001b[32m━━━━━━━━━━━━━━━━━━━━\u001b[0m\u001b[37m\u001b[0m \u001b[1m1s\u001b[0m 3ms/step - loss: 16877506.0000 - mae: 2850.1926 - val_loss: 14170151.0000 - val_mae: 2779.7212\n",
            "Epoch 24/50\n",
            "\u001b[1m78/78\u001b[0m \u001b[32m━━━━━━━━━━━━━━━━━━━━\u001b[0m\u001b[37m\u001b[0m \u001b[1m0s\u001b[0m 4ms/step - loss: 15633985.0000 - mae: 2740.7981 - val_loss: 14044654.0000 - val_mae: 2766.0952\n",
            "Epoch 25/50\n",
            "\u001b[1m78/78\u001b[0m \u001b[32m━━━━━━━━━━━━━━━━━━━━\u001b[0m\u001b[37m\u001b[0m \u001b[1m0s\u001b[0m 3ms/step - loss: 15367245.0000 - mae: 2733.5161 - val_loss: 13961964.0000 - val_mae: 2757.6448\n",
            "Epoch 26/50\n",
            "\u001b[1m78/78\u001b[0m \u001b[32m━━━━━━━━━━━━━━━━━━━━\u001b[0m\u001b[37m\u001b[0m \u001b[1m0s\u001b[0m 3ms/step - loss: 15337076.0000 - mae: 2725.2043 - val_loss: 13849800.0000 - val_mae: 2747.0596\n",
            "Epoch 27/50\n",
            "\u001b[1m78/78\u001b[0m \u001b[32m━━━━━━━━━━━━━━━━━━━━\u001b[0m\u001b[37m\u001b[0m \u001b[1m0s\u001b[0m 4ms/step - loss: 13803195.0000 - mae: 2648.3892 - val_loss: 13725327.0000 - val_mae: 2736.0012\n",
            "Epoch 28/50\n",
            "\u001b[1m78/78\u001b[0m \u001b[32m━━━━━━━━━━━━━━━━━━━━\u001b[0m\u001b[37m\u001b[0m \u001b[1m0s\u001b[0m 4ms/step - loss: 14265622.0000 - mae: 2711.8440 - val_loss: 13655954.0000 - val_mae: 2725.0405\n",
            "Epoch 29/50\n",
            "\u001b[1m78/78\u001b[0m \u001b[32m━━━━━━━━━━━━━━━━━━━━\u001b[0m\u001b[37m\u001b[0m \u001b[1m1s\u001b[0m 3ms/step - loss: 13395040.0000 - mae: 2618.2788 - val_loss: 13539096.0000 - val_mae: 2717.3430\n",
            "Epoch 30/50\n",
            "\u001b[1m78/78\u001b[0m \u001b[32m━━━━━━━━━━━━━━━━━━━━\u001b[0m\u001b[37m\u001b[0m \u001b[1m0s\u001b[0m 4ms/step - loss: 14386195.0000 - mae: 2727.1641 - val_loss: 13434965.0000 - val_mae: 2710.8262\n",
            "Epoch 31/50\n",
            "\u001b[1m78/78\u001b[0m \u001b[32m━━━━━━━━━━━━━━━━━━━━\u001b[0m\u001b[37m\u001b[0m \u001b[1m1s\u001b[0m 3ms/step - loss: 15231234.0000 - mae: 2695.4866 - val_loss: 13338407.0000 - val_mae: 2695.4180\n",
            "Epoch 32/50\n",
            "\u001b[1m78/78\u001b[0m \u001b[32m━━━━━━━━━━━━━━━━━━━━\u001b[0m\u001b[37m\u001b[0m \u001b[1m0s\u001b[0m 4ms/step - loss: 15654010.0000 - mae: 2714.4070 - val_loss: 13251204.0000 - val_mae: 2684.0654\n",
            "Epoch 33/50\n",
            "\u001b[1m78/78\u001b[0m \u001b[32m━━━━━━━━━━━━━━━━━━━━\u001b[0m\u001b[37m\u001b[0m \u001b[1m1s\u001b[0m 4ms/step - loss: 14967244.0000 - mae: 2699.0276 - val_loss: 13136520.0000 - val_mae: 2671.2605\n",
            "Epoch 34/50\n",
            "\u001b[1m78/78\u001b[0m \u001b[32m━━━━━━━━━━━━━━━━━━━━\u001b[0m\u001b[37m\u001b[0m \u001b[1m0s\u001b[0m 3ms/step - loss: 15782141.0000 - mae: 2696.9465 - val_loss: 13055850.0000 - val_mae: 2657.5464\n",
            "Epoch 35/50\n",
            "\u001b[1m78/78\u001b[0m \u001b[32m━━━━━━━━━━━━━━━━━━━━\u001b[0m\u001b[37m\u001b[0m \u001b[1m0s\u001b[0m 4ms/step - loss: 15052174.0000 - mae: 2640.5337 - val_loss: 12951717.0000 - val_mae: 2644.9749\n",
            "Epoch 36/50\n",
            "\u001b[1m78/78\u001b[0m \u001b[32m━━━━━━━━━━━━━━━━━━━━\u001b[0m\u001b[37m\u001b[0m \u001b[1m1s\u001b[0m 4ms/step - loss: 14744689.0000 - mae: 2626.0981 - val_loss: 12891462.0000 - val_mae: 2631.6404\n",
            "Epoch 37/50\n",
            "\u001b[1m78/78\u001b[0m \u001b[32m━━━━━━━━━━━━━━━━━━━━\u001b[0m\u001b[37m\u001b[0m \u001b[1m1s\u001b[0m 3ms/step - loss: 16523912.0000 - mae: 2780.2349 - val_loss: 12777028.0000 - val_mae: 2623.3083\n",
            "Epoch 38/50\n",
            "\u001b[1m78/78\u001b[0m \u001b[32m━━━━━━━━━━━━━━━━━━━━\u001b[0m\u001b[37m\u001b[0m \u001b[1m0s\u001b[0m 3ms/step - loss: 15135709.0000 - mae: 2667.3206 - val_loss: 12708235.0000 - val_mae: 2607.4734\n",
            "Epoch 39/50\n",
            "\u001b[1m78/78\u001b[0m \u001b[32m━━━━━━━━━━━━━━━━━━━━\u001b[0m\u001b[37m\u001b[0m \u001b[1m0s\u001b[0m 3ms/step - loss: 12636465.0000 - mae: 2572.1753 - val_loss: 12598070.0000 - val_mae: 2598.0193\n",
            "Epoch 40/50\n",
            "\u001b[1m78/78\u001b[0m \u001b[32m━━━━━━━━━━━━━━━━━━━━\u001b[0m\u001b[37m\u001b[0m \u001b[1m0s\u001b[0m 4ms/step - loss: 16340040.0000 - mae: 2733.3770 - val_loss: 12543234.0000 - val_mae: 2585.5928\n",
            "Epoch 41/50\n",
            "\u001b[1m78/78\u001b[0m \u001b[32m━━━━━━━━━━━━━━━━━━━━\u001b[0m\u001b[37m\u001b[0m \u001b[1m0s\u001b[0m 3ms/step - loss: 13713810.0000 - mae: 2620.4158 - val_loss: 12432135.0000 - val_mae: 2575.6655\n",
            "Epoch 42/50\n",
            "\u001b[1m78/78\u001b[0m \u001b[32m━━━━━━━━━━━━━━━━━━━━\u001b[0m\u001b[37m\u001b[0m \u001b[1m0s\u001b[0m 3ms/step - loss: 15054204.0000 - mae: 2565.7866 - val_loss: 12373022.0000 - val_mae: 2561.7034\n",
            "Epoch 43/50\n",
            "\u001b[1m78/78\u001b[0m \u001b[32m━━━━━━━━━━━━━━━━━━━━\u001b[0m\u001b[37m\u001b[0m \u001b[1m0s\u001b[0m 4ms/step - loss: 12793892.0000 - mae: 2518.5889 - val_loss: 12270745.0000 - val_mae: 2554.5984\n",
            "Epoch 44/50\n",
            "\u001b[1m78/78\u001b[0m \u001b[32m━━━━━━━━━━━━━━━━━━━━\u001b[0m\u001b[37m\u001b[0m \u001b[1m0s\u001b[0m 3ms/step - loss: 14661673.0000 - mae: 2598.2903 - val_loss: 12197625.0000 - val_mae: 2543.6719\n",
            "Epoch 45/50\n",
            "\u001b[1m78/78\u001b[0m \u001b[32m━━━━━━━━━━━━━━━━━━━━\u001b[0m\u001b[37m\u001b[0m \u001b[1m0s\u001b[0m 3ms/step - loss: 14958401.0000 - mae: 2625.3057 - val_loss: 12131219.0000 - val_mae: 2530.5803\n",
            "Epoch 46/50\n",
            "\u001b[1m78/78\u001b[0m \u001b[32m━━━━━━━━━━━━━━━━━━━━\u001b[0m\u001b[37m\u001b[0m \u001b[1m0s\u001b[0m 3ms/step - loss: 16050228.0000 - mae: 2630.7527 - val_loss: 12043180.0000 - val_mae: 2523.3469\n",
            "Epoch 47/50\n",
            "\u001b[1m78/78\u001b[0m \u001b[32m━━━━━━━━━━━━━━━━━━━━\u001b[0m\u001b[37m\u001b[0m \u001b[1m0s\u001b[0m 5ms/step - loss: 12863494.0000 - mae: 2510.9070 - val_loss: 11981572.0000 - val_mae: 2516.6958\n",
            "Epoch 48/50\n",
            "\u001b[1m78/78\u001b[0m \u001b[32m━━━━━━━━━━━━━━━━━━━━\u001b[0m\u001b[37m\u001b[0m \u001b[1m1s\u001b[0m 6ms/step - loss: 14000916.0000 - mae: 2526.7422 - val_loss: 11893013.0000 - val_mae: 2501.1741\n",
            "Epoch 49/50\n",
            "\u001b[1m78/78\u001b[0m \u001b[32m━━━━━━━━━━━━━━━━━━━━\u001b[0m\u001b[37m\u001b[0m \u001b[1m1s\u001b[0m 6ms/step - loss: 14793261.0000 - mae: 2637.4497 - val_loss: 11804738.0000 - val_mae: 2498.5339\n",
            "Epoch 50/50\n",
            "\u001b[1m78/78\u001b[0m \u001b[32m━━━━━━━━━━━━━━━━━━━━\u001b[0m\u001b[37m\u001b[0m \u001b[1m1s\u001b[0m 6ms/step - loss: 13791112.0000 - mae: 2532.6111 - val_loss: 11738119.0000 - val_mae: 2485.4080\n"
          ]
        },
        {
          "output_type": "execute_result",
          "data": {
            "text/plain": [
              "<keras.src.callbacks.history.History at 0x7ffacc5b1b50>"
            ]
          },
          "metadata": {},
          "execution_count": 18
        }
      ]
    },
    {
      "cell_type": "code",
      "source": [
        "loss, mae = model.evaluate(X_test, y_test)\n",
        "print(f\"Test Mean Absolute Error: {mae:.2f}\")\n"
      ],
      "metadata": {
        "id": "brXVakUYGKdO",
        "outputId": "24bfb642-dab0-4f9e-ca84-a0d9028c85fc",
        "colab": {
          "base_uri": "https://localhost:8080/"
        }
      },
      "execution_count": 19,
      "outputs": [
        {
          "output_type": "stream",
          "name": "stdout",
          "text": [
            "\u001b[1m25/25\u001b[0m \u001b[32m━━━━━━━━━━━━━━━━━━━━\u001b[0m\u001b[37m\u001b[0m \u001b[1m0s\u001b[0m 4ms/step - loss: 16142132.0000 - mae: 2734.0273\n",
            "Test Mean Absolute Error: 2546.29\n"
          ]
        }
      ]
    },
    {
      "cell_type": "markdown",
      "source": [
        "# 스마트 잠금 장치 : [인증 데이터, 차량 상태 데이터, Bluetooth 신호 데이터, 이상 행동 데이터, 위치 기반 데이터]\n",
        "\n",
        "- 원격 제어 차량 및 센서 잠금 장치 코드"
      ],
      "metadata": {
        "id": "J6wQb6M3rmnO"
      }
    },
    {
      "cell_type": "code",
      "source": [
        "import time\n",
        "import random\n",
        "\n",
        "class SmartCarSecuritySystem:\n",
        "    def __init__(self, key_code):\n",
        "        self.key_code = key_code\n",
        "        self.is_locked = True\n",
        "        self.alarm_on = False\n",
        "\n",
        "    def remote_lock(self):\n",
        "        self.is_locked = True\n",
        "        print(\"🔒 차량이 원격으로 잠겼습니다.\")\n",
        "\n",
        "    def remote_unlock(self, input_code):\n",
        "        if input_code == self.key_code:\n",
        "            self.is_locked = False\n",
        "            print(\"🔓 차량이 원격으로 열렸습니다.\")\n",
        "        else:\n",
        "            print(\"❌ 잘못된 키 코드! 접근 거부됨.\")\n",
        "\n",
        "    def door_sensor_trigger(self):\n",
        "        if self.is_locked:\n",
        "            self.alarm_on = True\n",
        "            print(\"🚨 경고! 차량이 잠긴 상태에서 문이 열렸습니다. 알람 울림!\")\n",
        "        else:\n",
        "            print(\"✅ 차량이 열린 상태에서 정상적인 문 열림 감지.\")\n",
        "\n",
        "    def reset_alarm(self):\n",
        "        if self.alarm_on:\n",
        "            print(\"🔕 알람이 꺼졌습니다.\")\n",
        "            self.alarm_on = False\n",
        "        else:\n",
        "            print(\"알람이 작동 중이 아닙니다.\")\n",
        "\n",
        "# 시스템 초기화 (키코드는 'secure123')\n",
        "car = SmartCarSecuritySystem('secure123')\n",
        "\n",
        "# 시뮬레이션 예시\n",
        "car.remote_lock()\n",
        "time.sleep(1)\n",
        "\n",
        "# 센서가 침입 감지\n",
        "car.door_sensor_trigger()\n",
        "time.sleep(1)\n",
        "\n",
        "# 알람 리셋 시도\n",
        "car.reset_alarm()\n",
        "time.sleep(1)\n",
        "\n",
        "# 정해진 키코드로 문 열기\n",
        "car.remote_unlock('secure123')\n",
        "time.sleep(1)\n",
        "\n",
        "# 문 열림 감지 (정상 상황)\n",
        "car.door_sensor_trigger()\n"
      ],
      "metadata": {
        "id": "Q0LCZU3JsT9v",
        "outputId": "499935ee-771d-4b72-ea1f-dceaaa26303d",
        "colab": {
          "base_uri": "https://localhost:8080/"
        }
      },
      "execution_count": 20,
      "outputs": [
        {
          "output_type": "stream",
          "name": "stdout",
          "text": [
            "🔒 차량이 원격으로 잠겼습니다.\n",
            "🚨 경고! 차량이 잠긴 상태에서 문이 열렸습니다. 알람 울림!\n",
            "🔕 알람이 꺼졌습니다.\n",
            "🔓 차량이 원격으로 열렸습니다.\n",
            "✅ 차량이 열린 상태에서 정상적인 문 열림 감지.\n"
          ]
        }
      ]
    },
    {
      "cell_type": "markdown",
      "source": [
        "#강제 침입 감지 + 알림 전송"
      ],
      "metadata": {
        "id": "1CP4eLCPPv1L"
      }
    },
    {
      "cell_type": "code",
      "source": [
        "import time\n",
        "import random\n",
        "\n",
        "class SmartCarAlarmSystem:\n",
        "    def __init__(self, owner_contact):\n",
        "        self.is_locked = True\n",
        "        self.alarm_on = False\n",
        "        self.owner_contact = owner_contact  # 차량 주인 연락처 (시뮬레이션용 문자열)\n",
        "\n",
        "    def lock(self):\n",
        "        self.is_locked = True\n",
        "        print(\"🔒 차량이 잠겼습니다.\")\n",
        "\n",
        "    def unlock(self, key_input, correct_key=\"secure123\"):\n",
        "        if key_input == correct_key:\n",
        "            self.is_locked = False\n",
        "            print(\"🔓 차량이 정상적으로 열렸습니다.\")\n",
        "        else:\n",
        "            print(\"❌ 잘못된 키. 접근 거부됨.\")\n",
        "\n",
        "    def detect_force_open(self):\n",
        "        # 차량이 잠긴 상태에서 강제로 문이 열리는 경우\n",
        "        if self.is_locked:\n",
        "            self.alarm_on = True\n",
        "            self.send_alert()\n",
        "        else:\n",
        "            print(\"🚗 차량이 이미 열려 있어 센서 경고 없음.\")\n",
        "\n",
        "    def send_alert(self):\n",
        "        print(\"🚨 강제 침입 감지! 차량 알람 작동 중!\")\n",
        "        print(f\"📩 차량 주인({self.owner_contact})에게 알림 전송: '차량 문이 강제로 열렸습니다. 확인해 주세요!'\")\n",
        "\n",
        "    def reset_alarm(self):\n",
        "        if self.alarm_on:\n",
        "            self.alarm_on = False\n",
        "            print(\"🔕 알람이 해제되었습니다.\")\n",
        "        else:\n",
        "            print(\"알람이 작동 중이 아닙니다.\")\n",
        "\n",
        "# 차량 주인의 연락처 등록 (시뮬레이션용)\n",
        "car = SmartCarAlarmSystem(owner_contact=\"010-1234-5678\")\n",
        "\n",
        "# 시나리오 실행\n",
        "car.lock()               # 차량 잠금\n",
        "time.sleep(1)\n",
        "\n",
        "car.detect_force_open()  # 침입 시도 감지\n",
        "time.sleep(1)\n",
        "\n",
        "car.reset_alarm()        # 알람 해제\n"
      ],
      "metadata": {
        "id": "eRJV812jPAJC",
        "outputId": "d97ab34f-9f71-4677-e730-af2c7119e7a3",
        "colab": {
          "base_uri": "https://localhost:8080/"
        }
      },
      "execution_count": 21,
      "outputs": [
        {
          "output_type": "stream",
          "name": "stdout",
          "text": [
            "🔒 차량이 잠겼습니다.\n",
            "🚨 강제 침입 감지! 차량 알람 작동 중!\n",
            "📩 차량 주인(010-1234-5678)에게 알림 전송: '차량 문이 강제로 열렸습니다. 확인해 주세요!'\n",
            "🔕 알람이 해제되었습니다.\n"
          ]
        }
      ]
    },
    {
      "cell_type": "markdown",
      "source": [
        "# GPS 추적 시스템 : [위치 데이터, 속도 데이터, 시간 데이터, 배터리 상태, 운전 경로 데이터를 사용하여 차량 위치, 속도, 차량의 상태 등 경로를 빠르게 파악 후 검거를 할 수 있게끔 하는 것입니다.]\n",
        "- GPS + CCTV 추적 시스템"
      ],
      "metadata": {
        "id": "urL2iJmVQRRa"
      }
    },
    {
      "cell_type": "code",
      "source": [
        "import time\n",
        "import random\n",
        "from datetime import datetime\n",
        "\n",
        "class VehicleTracker:\n",
        "    def __init__(self, vehicle_id):\n",
        "        self.vehicle_id = vehicle_id\n",
        "        self.current_location = (37.5665, 126.9780)  # 서울 시청 (초기 위치)\n",
        "        self.tracking_log = []\n",
        "\n",
        "    def get_gps_location(self):\n",
        "        # GPS 위치를 임의로 변동시켜 이동을 시뮬레이션\n",
        "        lat_shift = random.uniform(-0.0005, 0.0005)\n",
        "        lon_shift = random.uniform(-0.0005, 0.0005)\n",
        "        lat, lon = self.current_location\n",
        "        new_location = (lat + lat_shift, lon + lon_shift)\n",
        "        self.current_location = new_location\n",
        "        return new_location\n",
        "\n",
        "    def capture_cctv(self):\n",
        "        # 실제 카메라 대신 캡처 시각 및 더미 이미지 파일명 반환\n",
        "        timestamp = datetime.now().strftime('%Y%m%d_%H%M%S')\n",
        "        image_name = f\"vehicle_{self.vehicle_id}_{timestamp}.jpg\"\n",
        "        print(f\"📷 CCTV 이미지 캡처: {image_name}\")\n",
        "        return image_name\n",
        "\n",
        "    def track_vehicle(self):\n",
        "        location = self.get_gps_location()\n",
        "        image = self.capture_cctv()\n",
        "        log_entry = {\n",
        "            \"timestamp\": datetime.now().strftime('%Y-%m-%d %H:%M:%S'),\n",
        "            \"location\": location,\n",
        "            \"image\": image\n",
        "        }\n",
        "        self.tracking_log.append(log_entry)\n",
        "        print(f\"🛰 위치: {location}, 기록 저장 완료\\n\")\n",
        "\n",
        "# 사용 예시\n",
        "tracker = VehicleTracker(vehicle_id=\"A1234\")\n",
        "\n",
        "# 차량이 이동하면서 5회 추적 시뮬레이션\n",
        "for _ in range(5):\n",
        "    tracker.track_vehicle()\n",
        "    time.sleep(1)  # 1초 간격으로 추적"
      ],
      "metadata": {
        "id": "jpjVtc2OQI_F",
        "outputId": "e3f7a1e9-0a46-4dda-f537-ee4476412323",
        "colab": {
          "base_uri": "https://localhost:8080/"
        }
      },
      "execution_count": 22,
      "outputs": [
        {
          "output_type": "stream",
          "name": "stdout",
          "text": [
            "📷 CCTV 이미지 캡처: vehicle_A1234_20250604_011527.jpg\n",
            "🛰 위치: (37.5662043420933, 126.97833743631514), 기록 저장 완료\n",
            "\n",
            "📷 CCTV 이미지 캡처: vehicle_A1234_20250604_011528.jpg\n",
            "🛰 위치: (37.56571494317509, 126.97861565261702), 기록 저장 완료\n",
            "\n",
            "📷 CCTV 이미지 캡처: vehicle_A1234_20250604_011529.jpg\n",
            "🛰 위치: (37.56528125220225, 126.97821252093965), 기록 저장 완료\n",
            "\n",
            "📷 CCTV 이미지 캡처: vehicle_A1234_20250604_011530.jpg\n",
            "🛰 위치: (37.564988257023295, 126.97796048231295), 기록 저장 완료\n",
            "\n",
            "📷 CCTV 이미지 캡처: vehicle_A1234_20250604_011531.jpg\n",
            "🛰 위치: (37.56485477696751, 126.97780030154702), 기록 저장 완료\n",
            "\n"
          ]
        }
      ]
    },
    {
      "cell_type": "markdown",
      "source": [
        "#자신이 소유한 차량의 정보를 등록하면 gps나 위치가 나오게하는 방법"
      ],
      "metadata": {
        "id": "DaqnP3r9QdsN"
      }
    },
    {
      "cell_type": "code",
      "source": [
        "import time\n",
        "import random\n",
        "from datetime import datetime\n",
        "\n",
        "class VehicleTrackerSystem:\n",
        "    def __init__(self):\n",
        "        self.vehicles = {}  # 차량번호 → 차량 데이터 저장\n",
        "\n",
        "    def register_vehicle(self, vehicle_number, owner_name, model_name, status=\"정상\"):\n",
        "        if vehicle_number not in self.vehicles:\n",
        "            self.vehicles[vehicle_number] = {\n",
        "                \"owner\": owner_name,\n",
        "                \"model\": model_name,\n",
        "                \"status\": status,\n",
        "                \"location\": (37.5665, 126.9780),\n",
        "                \"log\": []\n",
        "            }\n",
        "            print(f\"✅ 차량 '{vehicle_number}' 등록 완료.\")\n",
        "        else:\n",
        "            print(\"⚠️ 이미 등록된 차량입니다.\")\n",
        "\n",
        "    def simulate_tracking(self, vehicle_number):\n",
        "        if vehicle_number not in self.vehicles:\n",
        "            print(\"🚫 등록되지 않은 차량입니다.\")\n",
        "            return\n",
        "\n",
        "        lat_shift = random.uniform(-0.0005, 0.0005)\n",
        "        lon_shift = random.uniform(-0.0005, 0.0005)\n",
        "        lat, lon = self.vehicles[vehicle_number][\"location\"]\n",
        "        new_location = (lat + lat_shift, lon + lon_shift)\n",
        "        timestamp = datetime.now().strftime('%Y-%m-%d %H:%M:%S')\n",
        "        image_name = f\"{vehicle_number}_{timestamp.replace(':', '')}.jpg\"\n",
        "\n",
        "        self.vehicles[vehicle_number][\"location\"] = new_location\n",
        "        self.vehicles[vehicle_number][\"log\"].append({\n",
        "            \"timestamp\": timestamp,\n",
        "            \"location\": new_location,\n",
        "            \"image\": image_name\n",
        "        })\n",
        "        print(f\"🛰 차량 '{vehicle_number}' 위치 업데이트 완료.\")\n",
        "\n",
        "    def query_vehicle(self, vehicle_number):\n",
        "        if vehicle_number not in self.vehicles:\n",
        "            print(\"❌ 해당 차량은 등록되어 있지 않습니다.\")\n",
        "            return\n",
        "\n",
        "        vehicle_data = self.vehicles[vehicle_number]\n",
        "        if not vehicle_data[\"log\"]:\n",
        "            print(\"ℹ️ 아직 추적 기록이 없습니다.\")\n",
        "            return\n",
        "\n",
        "        latest = vehicle_data[\"log\"][-1]\n",
        "        print(f\"\"\"\n",
        "🚗 차량 번호: {vehicle_number}\n",
        "👤 운전자: {vehicle_data['owner']}\n",
        "🚙 모델명: {vehicle_data['model']}\n",
        "⚙️ 차량 상태: {vehicle_data['status']}\n",
        "📍 최근 위치: {latest['location']}\n",
        "🕒 시간: {latest['timestamp']}\n",
        "📸 CCTV 이미지 파일: {latest['image']}\n",
        "\"\"\")\n",
        "\n",
        "# ------------------------------\n",
        "# 사용 예시\n",
        "system = VehicleTrackerSystem()\n",
        "\n",
        "# 차량 등록\n",
        "system.register_vehicle(\"12가3456\", owner_name=\"홍길동\", model_name=\"Kia K5\", status=\"정상\")\n",
        "system.register_vehicle(\"34나5678\", owner_name=\"김영희\", model_name=\"Hyundai Avante\", status=\"도난 신고\")\n",
        "\n",
        "# 위치 추적 시뮬레이션\n",
        "for _ in range(2):\n",
        "    system.simulate_tracking(\"12가3456\")\n",
        "    system.simulate_tracking(\"34나5678\")\n",
        "    time.sleep(1)\n",
        "\n",
        "# 차량 정보 조회\n",
        "system.query_vehicle(\"12가3456\")\n",
        "system.query_vehicle(\"34나5678\")\n"
      ],
      "metadata": {
        "id": "LwmSBX6QQ3hb",
        "outputId": "daa93a2c-8948-4885-9928-d31b59f47d76",
        "colab": {
          "base_uri": "https://localhost:8080/"
        }
      },
      "execution_count": 23,
      "outputs": [
        {
          "output_type": "stream",
          "name": "stdout",
          "text": [
            "✅ 차량 '12가3456' 등록 완료.\n",
            "✅ 차량 '34나5678' 등록 완료.\n",
            "🛰 차량 '12가3456' 위치 업데이트 완료.\n",
            "🛰 차량 '34나5678' 위치 업데이트 완료.\n",
            "🛰 차량 '12가3456' 위치 업데이트 완료.\n",
            "🛰 차량 '34나5678' 위치 업데이트 완료.\n",
            "\n",
            "🚗 차량 번호: 12가3456\n",
            "👤 운전자: 홍길동\n",
            "🚙 모델명: Kia K5\n",
            "⚙️ 차량 상태: 정상\n",
            "📍 최근 위치: (37.56728186968461, 126.97796301371024)\n",
            "🕒 시간: 2025-06-04 01:15:33\n",
            "📸 CCTV 이미지 파일: 12가3456_2025-06-04 011533.jpg\n",
            "\n",
            "\n",
            "🚗 차량 번호: 34나5678\n",
            "👤 운전자: 김영희\n",
            "🚙 모델명: Hyundai Avante\n",
            "⚙️ 차량 상태: 도난 신고\n",
            "📍 최근 위치: (37.566066021242065, 126.97819092054145)\n",
            "🕒 시간: 2025-06-04 01:15:33\n",
            "📸 CCTV 이미지 파일: 34나5678_2025-06-04 011533.jpg\n",
            "\n"
          ]
        }
      ]
    },
    {
      "cell_type": "code",
      "source": [
        "import folium\n",
        "\n",
        "# 예: 현재 GPS 위치 (임의값 또는 센서에서 수신 가능)\n",
        "current_latitude = 37.5665   # 서울 광화문 좌표 예시\n",
        "current_longitude = 126.9780\n",
        "\n",
        "# 지도 생성\n",
        "current_map = folium.Map(location=[current_latitude, current_longitude], zoom_start=15)\n",
        "\n",
        "# 마커 추가\n",
        "folium.Marker(\n",
        "    location=[current_latitude, current_longitude],\n",
        "    popup=\"현재 차량 위치\",\n",
        "    tooltip=\"현재 위치\",\n",
        "    icon=folium.Icon(color=\"blue\", icon=\"info-sign\")\n",
        ").add_to(current_map)\n",
        "\n",
        "# 지도 표시 (Jupyter/Colab 환경)\n",
        "current_map\n"
      ],
      "metadata": {
        "id": "ZbvU7tXCT1ii",
        "outputId": "b68a6a34-7ebe-4c92-e99d-55a78d7f7c2e",
        "colab": {
          "base_uri": "https://localhost:8080/",
          "height": 1000
        }
      },
      "execution_count": 24,
      "outputs": [
        {
          "output_type": "execute_result",
          "data": {
            "text/plain": [
              "<folium.folium.Map at 0x7ffac6cf9350>"
            ],
            "text/html": [
              "<div style=\"width:100%;\"><div style=\"position:relative;width:100%;height:0;padding-bottom:60%;\"><span style=\"color:#565656\">Make this Notebook Trusted to load map: File -> Trust Notebook</span><iframe srcdoc=\"&lt;!DOCTYPE html&gt;\n",
              "&lt;html&gt;\n",
              "&lt;head&gt;\n",
              "    \n",
              "    &lt;meta http-equiv=&quot;content-type&quot; content=&quot;text/html; charset=UTF-8&quot; /&gt;\n",
              "    &lt;script src=&quot;https://cdn.jsdelivr.net/npm/leaflet@1.9.3/dist/leaflet.js&quot;&gt;&lt;/script&gt;\n",
              "    &lt;script src=&quot;https://code.jquery.com/jquery-3.7.1.min.js&quot;&gt;&lt;/script&gt;\n",
              "    &lt;script src=&quot;https://cdn.jsdelivr.net/npm/bootstrap@5.2.2/dist/js/bootstrap.bundle.min.js&quot;&gt;&lt;/script&gt;\n",
              "    &lt;script src=&quot;https://cdnjs.cloudflare.com/ajax/libs/Leaflet.awesome-markers/2.0.2/leaflet.awesome-markers.js&quot;&gt;&lt;/script&gt;\n",
              "    &lt;link rel=&quot;stylesheet&quot; href=&quot;https://cdn.jsdelivr.net/npm/leaflet@1.9.3/dist/leaflet.css&quot;/&gt;\n",
              "    &lt;link rel=&quot;stylesheet&quot; href=&quot;https://cdn.jsdelivr.net/npm/bootstrap@5.2.2/dist/css/bootstrap.min.css&quot;/&gt;\n",
              "    &lt;link rel=&quot;stylesheet&quot; href=&quot;https://netdna.bootstrapcdn.com/bootstrap/3.0.0/css/bootstrap-glyphicons.css&quot;/&gt;\n",
              "    &lt;link rel=&quot;stylesheet&quot; href=&quot;https://cdn.jsdelivr.net/npm/@fortawesome/fontawesome-free@6.2.0/css/all.min.css&quot;/&gt;\n",
              "    &lt;link rel=&quot;stylesheet&quot; href=&quot;https://cdnjs.cloudflare.com/ajax/libs/Leaflet.awesome-markers/2.0.2/leaflet.awesome-markers.css&quot;/&gt;\n",
              "    &lt;link rel=&quot;stylesheet&quot; href=&quot;https://cdn.jsdelivr.net/gh/python-visualization/folium/folium/templates/leaflet.awesome.rotate.min.css&quot;/&gt;\n",
              "    \n",
              "            &lt;meta name=&quot;viewport&quot; content=&quot;width=device-width,\n",
              "                initial-scale=1.0, maximum-scale=1.0, user-scalable=no&quot; /&gt;\n",
              "            &lt;style&gt;\n",
              "                #map_a2dfd75a7c5779f5d32643fcb5803358 {\n",
              "                    position: relative;\n",
              "                    width: 100.0%;\n",
              "                    height: 100.0%;\n",
              "                    left: 0.0%;\n",
              "                    top: 0.0%;\n",
              "                }\n",
              "                .leaflet-container { font-size: 1rem; }\n",
              "            &lt;/style&gt;\n",
              "\n",
              "            &lt;style&gt;html, body {\n",
              "                width: 100%;\n",
              "                height: 100%;\n",
              "                margin: 0;\n",
              "                padding: 0;\n",
              "            }\n",
              "            &lt;/style&gt;\n",
              "\n",
              "            &lt;style&gt;#map {\n",
              "                position:absolute;\n",
              "                top:0;\n",
              "                bottom:0;\n",
              "                right:0;\n",
              "                left:0;\n",
              "                }\n",
              "            &lt;/style&gt;\n",
              "\n",
              "            &lt;script&gt;\n",
              "                L_NO_TOUCH = false;\n",
              "                L_DISABLE_3D = false;\n",
              "            &lt;/script&gt;\n",
              "\n",
              "        \n",
              "&lt;/head&gt;\n",
              "&lt;body&gt;\n",
              "    \n",
              "    \n",
              "            &lt;div class=&quot;folium-map&quot; id=&quot;map_a2dfd75a7c5779f5d32643fcb5803358&quot; &gt;&lt;/div&gt;\n",
              "        \n",
              "&lt;/body&gt;\n",
              "&lt;script&gt;\n",
              "    \n",
              "    \n",
              "            var map_a2dfd75a7c5779f5d32643fcb5803358 = L.map(\n",
              "                &quot;map_a2dfd75a7c5779f5d32643fcb5803358&quot;,\n",
              "                {\n",
              "                    center: [37.5665, 126.978],\n",
              "                    crs: L.CRS.EPSG3857,\n",
              "                    ...{\n",
              "  &quot;zoom&quot;: 15,\n",
              "  &quot;zoomControl&quot;: true,\n",
              "  &quot;preferCanvas&quot;: false,\n",
              "}\n",
              "\n",
              "                }\n",
              "            );\n",
              "\n",
              "            \n",
              "\n",
              "        \n",
              "    \n",
              "            var tile_layer_8719060024ce22cc0e520a8bc5642a96 = L.tileLayer(\n",
              "                &quot;https://tile.openstreetmap.org/{z}/{x}/{y}.png&quot;,\n",
              "                {\n",
              "  &quot;minZoom&quot;: 0,\n",
              "  &quot;maxZoom&quot;: 19,\n",
              "  &quot;maxNativeZoom&quot;: 19,\n",
              "  &quot;noWrap&quot;: false,\n",
              "  &quot;attribution&quot;: &quot;\\u0026copy; \\u003ca href=\\&quot;https://www.openstreetmap.org/copyright\\&quot;\\u003eOpenStreetMap\\u003c/a\\u003e contributors&quot;,\n",
              "  &quot;subdomains&quot;: &quot;abc&quot;,\n",
              "  &quot;detectRetina&quot;: false,\n",
              "  &quot;tms&quot;: false,\n",
              "  &quot;opacity&quot;: 1,\n",
              "}\n",
              "\n",
              "            );\n",
              "        \n",
              "    \n",
              "            tile_layer_8719060024ce22cc0e520a8bc5642a96.addTo(map_a2dfd75a7c5779f5d32643fcb5803358);\n",
              "        \n",
              "    \n",
              "            var marker_a8b769346c8f21f99b1e4be1c49f52fd = L.marker(\n",
              "                [37.5665, 126.978],\n",
              "                {\n",
              "}\n",
              "            ).addTo(map_a2dfd75a7c5779f5d32643fcb5803358);\n",
              "        \n",
              "    \n",
              "            var icon_8988a10aaa57dab992001a5f8dab1d5a = L.AwesomeMarkers.icon(\n",
              "                {\n",
              "  &quot;markerColor&quot;: &quot;blue&quot;,\n",
              "  &quot;iconColor&quot;: &quot;white&quot;,\n",
              "  &quot;icon&quot;: &quot;info-sign&quot;,\n",
              "  &quot;prefix&quot;: &quot;glyphicon&quot;,\n",
              "  &quot;extraClasses&quot;: &quot;fa-rotate-0&quot;,\n",
              "}\n",
              "            );\n",
              "        \n",
              "    \n",
              "        var popup_d47b82e702bb7aaa51849bdad8bb4f11 = L.popup({\n",
              "  &quot;maxWidth&quot;: &quot;100%&quot;,\n",
              "});\n",
              "\n",
              "        \n",
              "            \n",
              "                var html_3e4e9a4880f0c07e2a68ef2d2069ca38 = $(`&lt;div id=&quot;html_3e4e9a4880f0c07e2a68ef2d2069ca38&quot; style=&quot;width: 100.0%; height: 100.0%;&quot;&gt;현재 차량 위치&lt;/div&gt;`)[0];\n",
              "                popup_d47b82e702bb7aaa51849bdad8bb4f11.setContent(html_3e4e9a4880f0c07e2a68ef2d2069ca38);\n",
              "            \n",
              "        \n",
              "\n",
              "        marker_a8b769346c8f21f99b1e4be1c49f52fd.bindPopup(popup_d47b82e702bb7aaa51849bdad8bb4f11)\n",
              "        ;\n",
              "\n",
              "        \n",
              "    \n",
              "    \n",
              "            marker_a8b769346c8f21f99b1e4be1c49f52fd.bindTooltip(\n",
              "                `&lt;div&gt;\n",
              "                     현재 위치\n",
              "                 &lt;/div&gt;`,\n",
              "                {\n",
              "  &quot;sticky&quot;: true,\n",
              "}\n",
              "            );\n",
              "        \n",
              "    \n",
              "                marker_a8b769346c8f21f99b1e4be1c49f52fd.setIcon(icon_8988a10aaa57dab992001a5f8dab1d5a);\n",
              "            \n",
              "&lt;/script&gt;\n",
              "&lt;/html&gt;\" style=\"position:absolute;width:100%;height:100%;left:0;top:0;border:none !important;\" allowfullscreen webkitallowfullscreen mozallowfullscreen></iframe></div></div>"
            ]
          },
          "metadata": {},
          "execution_count": 24
        }
      ]
    },
    {
      "cell_type": "code",
      "source": [],
      "metadata": {
        "id": "4eg6NLiidspH"
      },
      "execution_count": 24,
      "outputs": []
    }
  ]
}