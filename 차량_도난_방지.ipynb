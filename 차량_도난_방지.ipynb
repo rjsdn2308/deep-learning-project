{
  "nbformat": 4,
  "nbformat_minor": 0,
  "metadata": {
    "colab": {
      "provenance": [],
      "mount_file_id": "https://github.com/rjsdn2308/deep-learning-project/blob/main/deep_learning_project.ipynb",
      "authorship_tag": "ABX9TyOU5szI/ujM2PC8XJm44c1T",
      "include_colab_link": true
    },
    "kernelspec": {
      "name": "python3",
      "display_name": "Python 3"
    },
    "language_info": {
      "name": "python"
    }
  },
  "cells": [
    {
      "cell_type": "markdown",
      "metadata": {
        "id": "view-in-github",
        "colab_type": "text"
      },
      "source": [
        "<a href=\"https://colab.research.google.com/github/rjsdn2308/deep-learning-project/blob/main/%EC%B0%A8%EB%9F%89_%EB%8F%84%EB%82%9C_%EB%B0%A9%EC%A7%80.ipynb\" target=\"_parent\"><img src=\"https://colab.research.google.com/assets/colab-badge.svg\" alt=\"Open In Colab\"/></a>"
      ]
    },
    {
      "cell_type": "code",
      "source": [
        "!pip install folium # folium은 파이썬에서 Leaflet.js 기반의 지도를 표시하게 할 수 있는 라이브러리입니다."
      ],
      "metadata": {
        "id": "WFKkv6PwR9Qj",
        "outputId": "d1a13ad2-5c7d-4a57-f3fa-040412943010",
        "colab": {
          "base_uri": "https://localhost:8080/"
        }
      },
      "execution_count": null,
      "outputs": [
        {
          "output_type": "stream",
          "name": "stdout",
          "text": [
            "Requirement already satisfied: folium in /usr/local/lib/python3.11/dist-packages (0.19.5)\n",
            "Requirement already satisfied: branca>=0.6.0 in /usr/local/lib/python3.11/dist-packages (from folium) (0.8.1)\n",
            "Requirement already satisfied: jinja2>=2.9 in /usr/local/lib/python3.11/dist-packages (from folium) (3.1.6)\n",
            "Requirement already satisfied: numpy in /usr/local/lib/python3.11/dist-packages (from folium) (2.0.2)\n",
            "Requirement already satisfied: requests in /usr/local/lib/python3.11/dist-packages (from folium) (2.32.3)\n",
            "Requirement already satisfied: xyzservices in /usr/local/lib/python3.11/dist-packages (from folium) (2025.4.0)\n",
            "Requirement already satisfied: MarkupSafe>=2.0 in /usr/local/lib/python3.11/dist-packages (from jinja2>=2.9->folium) (3.0.2)\n",
            "Requirement already satisfied: charset-normalizer<4,>=2 in /usr/local/lib/python3.11/dist-packages (from requests->folium) (3.4.2)\n",
            "Requirement already satisfied: idna<4,>=2.5 in /usr/local/lib/python3.11/dist-packages (from requests->folium) (3.10)\n",
            "Requirement already satisfied: urllib3<3,>=1.21.1 in /usr/local/lib/python3.11/dist-packages (from requests->folium) (2.4.0)\n",
            "Requirement already satisfied: certifi>=2017.4.17 in /usr/local/lib/python3.11/dist-packages (from requests->folium) (2025.4.26)\n"
          ]
        }
      ]
    },
    {
      "cell_type": "markdown",
      "source": [
        "#CarPrice.csv 파일 불러오기\n"
      ],
      "metadata": {
        "id": "R8z9Y-cGrO6D"
      }
    },
    {
      "cell_type": "code",
      "source": [
        "import pandas as pd\n",
        "from sklearn.model_selection import train_test_split\n",
        "from sklearn.preprocessing import StandardScaler, OneHotEncoder\n",
        "from sklearn.compose import ColumnTransformer\n",
        "from sklearn.pipeline import Pipeline\n",
        "import tensorflow as tf\n",
        "from tensorflow.keras.models import Sequential\n",
        "from tensorflow.keras.layers import Dense\n",
        "\n",
        "# 데이터 불러오기\n",
        "df = pd.read_csv(\"/content/drive/MyDrive/2025-1/dl/CarPrice.csv\")\n",
        "\n",
        "# 특징 & 타겟 분리\n",
        "X = df.drop(['car_ID', 'CarName', 'price'], axis=1)\n",
        "y = df['price']\n",
        "\n",
        "# 수치형 & 범주형 분리\n",
        "numerical = X.select_dtypes(include=['int64', 'float64']).columns.tolist()\n",
        "categorical = X.select_dtypes(include=['object']).columns.tolist()\n",
        "\n",
        "# 전처리 파이프라인\n",
        "preprocessor = ColumnTransformer([\n",
        "    ('num', StandardScaler(), numerical),\n",
        "    ('cat', OneHotEncoder(handle_unknown='ignore'), categorical)\n",
        "])\n",
        "\n",
        "# 전체 파이프라인 구성\n",
        "model_pipeline = Pipeline(steps=[\n",
        "    ('preprocessor', preprocessor)\n",
        "])\n",
        "\n",
        "# 전처리된 데이터 준비\n",
        "X_processed = model_pipeline.fit_transform(X)\n",
        "\n",
        "# 훈련/검증 분리\n",
        "X_train, X_test, y_train, y_test = train_test_split(X_processed, y, test_size=0.2, random_state=42)\n",
        "\n",
        "# 딥러닝 모델 구성\n",
        "model = Sequential([\n",
        "    Dense(64, activation='relu', input_shape=(X_train.shape[1],)),\n",
        "    Dense(32, activation='relu'),\n",
        "    Dense(1)  # price 예측\n",
        "])\n",
        "\n",
        "# 컴파일\n",
        "model.compile(optimizer='adam', loss='mse', metrics=['mae'])\n",
        "\n",
        "# 학습\n",
        "model.fit(X_train, y_train, epochs=50, batch_size=16, validation_split=0.2)\n"
      ],
      "metadata": {
        "id": "zBAr4llgFiUO",
        "outputId": "7fb7b06c-7503-4de9-ae2f-66d785b27f5e",
        "colab": {
          "base_uri": "https://localhost:8080/"
        }
      },
      "execution_count": null,
      "outputs": [
        {
          "output_type": "stream",
          "name": "stdout",
          "text": [
            "Epoch 1/50\n"
          ]
        },
        {
          "output_type": "stream",
          "name": "stderr",
          "text": [
            "/usr/local/lib/python3.11/dist-packages/keras/src/layers/core/dense.py:87: UserWarning: Do not pass an `input_shape`/`input_dim` argument to a layer. When using Sequential models, prefer using an `Input(shape)` object as the first layer in the model instead.\n",
            "  super().__init__(activity_regularizer=activity_regularizer, **kwargs)\n"
          ]
        },
        {
          "output_type": "stream",
          "name": "stdout",
          "text": [
            "\u001b[1m9/9\u001b[0m \u001b[32m━━━━━━━━━━━━━━━━━━━━\u001b[0m\u001b[37m\u001b[0m \u001b[1m2s\u001b[0m 32ms/step - loss: 224309040.0000 - mae: 13095.5791 - val_loss: 317933696.0000 - val_mae: 15082.8213\n",
            "Epoch 2/50\n",
            "\u001b[1m9/9\u001b[0m \u001b[32m━━━━━━━━━━━━━━━━━━━━\u001b[0m\u001b[37m\u001b[0m \u001b[1m0s\u001b[0m 16ms/step - loss: 216272608.0000 - mae: 12703.2061 - val_loss: 317902240.0000 - val_mae: 15081.9326\n",
            "Epoch 3/50\n",
            "\u001b[1m9/9\u001b[0m \u001b[32m━━━━━━━━━━━━━━━━━━━━\u001b[0m\u001b[37m\u001b[0m \u001b[1m0s\u001b[0m 12ms/step - loss: 257008000.0000 - mae: 13743.5498 - val_loss: 317871072.0000 - val_mae: 15081.0322\n",
            "Epoch 4/50\n",
            "\u001b[1m9/9\u001b[0m \u001b[32m━━━━━━━━━━━━━━━━━━━━\u001b[0m\u001b[37m\u001b[0m \u001b[1m0s\u001b[0m 16ms/step - loss: 209135680.0000 - mae: 12650.8770 - val_loss: 317833056.0000 - val_mae: 15079.9521\n",
            "Epoch 5/50\n",
            "\u001b[1m9/9\u001b[0m \u001b[32m━━━━━━━━━━━━━━━━━━━━\u001b[0m\u001b[37m\u001b[0m \u001b[1m0s\u001b[0m 16ms/step - loss: 197467840.0000 - mae: 12359.8496 - val_loss: 317779584.0000 - val_mae: 15078.4727\n",
            "Epoch 6/50\n",
            "\u001b[1m9/9\u001b[0m \u001b[32m━━━━━━━━━━━━━━━━━━━━\u001b[0m\u001b[37m\u001b[0m \u001b[1m0s\u001b[0m 11ms/step - loss: 205562976.0000 - mae: 12512.3203 - val_loss: 317707104.0000 - val_mae: 15076.4346\n",
            "Epoch 7/50\n",
            "\u001b[1m9/9\u001b[0m \u001b[32m━━━━━━━━━━━━━━━━━━━━\u001b[0m\u001b[37m\u001b[0m \u001b[1m0s\u001b[0m 16ms/step - loss: 229155728.0000 - mae: 13052.5791 - val_loss: 317606528.0000 - val_mae: 15073.6143\n",
            "Epoch 8/50\n",
            "\u001b[1m9/9\u001b[0m \u001b[32m━━━━━━━━━━━━━━━━━━━━\u001b[0m\u001b[37m\u001b[0m \u001b[1m0s\u001b[0m 12ms/step - loss: 196761504.0000 - mae: 12373.5117 - val_loss: 317468608.0000 - val_mae: 15069.7363\n",
            "Epoch 9/50\n",
            "\u001b[1m9/9\u001b[0m \u001b[32m━━━━━━━━━━━━━━━━━━━━\u001b[0m\u001b[37m\u001b[0m \u001b[1m0s\u001b[0m 12ms/step - loss: 231475376.0000 - mae: 13154.6523 - val_loss: 317275264.0000 - val_mae: 15064.3643\n",
            "Epoch 10/50\n",
            "\u001b[1m9/9\u001b[0m \u001b[32m━━━━━━━━━━━━━━━━━━━━\u001b[0m\u001b[37m\u001b[0m \u001b[1m0s\u001b[0m 12ms/step - loss: 203347664.0000 - mae: 12713.4717 - val_loss: 317021408.0000 - val_mae: 15057.3291\n",
            "Epoch 11/50\n",
            "\u001b[1m9/9\u001b[0m \u001b[32m━━━━━━━━━━━━━━━━━━━━\u001b[0m\u001b[37m\u001b[0m \u001b[1m0s\u001b[0m 11ms/step - loss: 202170896.0000 - mae: 12337.2432 - val_loss: 316696288.0000 - val_mae: 15048.3340\n",
            "Epoch 12/50\n",
            "\u001b[1m9/9\u001b[0m \u001b[32m━━━━━━━━━━━━━━━━━━━━\u001b[0m\u001b[37m\u001b[0m \u001b[1m0s\u001b[0m 12ms/step - loss: 244541440.0000 - mae: 13738.9102 - val_loss: 316269824.0000 - val_mae: 15036.7441\n",
            "Epoch 13/50\n",
            "\u001b[1m9/9\u001b[0m \u001b[32m━━━━━━━━━━━━━━━━━━━━\u001b[0m\u001b[37m\u001b[0m \u001b[1m0s\u001b[0m 12ms/step - loss: 220143824.0000 - mae: 12961.4482 - val_loss: 315754208.0000 - val_mae: 15022.6660\n",
            "Epoch 14/50\n",
            "\u001b[1m9/9\u001b[0m \u001b[32m━━━━━━━━━━━━━━━━━━━━\u001b[0m\u001b[37m\u001b[0m \u001b[1m0s\u001b[0m 11ms/step - loss: 204732752.0000 - mae: 12621.1846 - val_loss: 315131168.0000 - val_mae: 15005.6289\n",
            "Epoch 15/50\n",
            "\u001b[1m9/9\u001b[0m \u001b[32m━━━━━━━━━━━━━━━━━━━━\u001b[0m\u001b[37m\u001b[0m \u001b[1m0s\u001b[0m 12ms/step - loss: 197847968.0000 - mae: 12357.0342 - val_loss: 314397184.0000 - val_mae: 14985.5713\n",
            "Epoch 16/50\n",
            "\u001b[1m9/9\u001b[0m \u001b[32m━━━━━━━━━━━━━━━━━━━━\u001b[0m\u001b[37m\u001b[0m \u001b[1m0s\u001b[0m 12ms/step - loss: 223687952.0000 - mae: 13010.7383 - val_loss: 313550528.0000 - val_mae: 14962.1719\n",
            "Epoch 17/50\n",
            "\u001b[1m9/9\u001b[0m \u001b[32m━━━━━━━━━━━━━━━━━━━━\u001b[0m\u001b[37m\u001b[0m \u001b[1m0s\u001b[0m 11ms/step - loss: 211025984.0000 - mae: 12722.5068 - val_loss: 312531040.0000 - val_mae: 14934.3867\n",
            "Epoch 18/50\n",
            "\u001b[1m9/9\u001b[0m \u001b[32m━━━━━━━━━━━━━━━━━━━━\u001b[0m\u001b[37m\u001b[0m \u001b[1m0s\u001b[0m 11ms/step - loss: 228638176.0000 - mae: 13037.5420 - val_loss: 311315584.0000 - val_mae: 14901.5605\n",
            "Epoch 19/50\n",
            "\u001b[1m9/9\u001b[0m \u001b[32m━━━━━━━━━━━━━━━━━━━━\u001b[0m\u001b[37m\u001b[0m \u001b[1m0s\u001b[0m 12ms/step - loss: 216197040.0000 - mae: 12624.1182 - val_loss: 309961760.0000 - val_mae: 14864.5557\n",
            "Epoch 20/50\n",
            "\u001b[1m9/9\u001b[0m \u001b[32m━━━━━━━━━━━━━━━━━━━━\u001b[0m\u001b[37m\u001b[0m \u001b[1m0s\u001b[0m 31ms/step - loss: 211317712.0000 - mae: 12827.7070 - val_loss: 308392128.0000 - val_mae: 14821.8672\n",
            "Epoch 21/50\n",
            "\u001b[1m9/9\u001b[0m \u001b[32m━━━━━━━━━━━━━━━━━━━━\u001b[0m\u001b[37m\u001b[0m \u001b[1m1s\u001b[0m 23ms/step - loss: 240305360.0000 - mae: 13353.9893 - val_loss: 306659520.0000 - val_mae: 14774.4443\n",
            "Epoch 22/50\n",
            "\u001b[1m9/9\u001b[0m \u001b[32m━━━━━━━━━━━━━━━━━━━━\u001b[0m\u001b[37m\u001b[0m \u001b[1m0s\u001b[0m 36ms/step - loss: 195604496.0000 - mae: 12309.4766 - val_loss: 304811008.0000 - val_mae: 14722.8594\n",
            "Epoch 23/50\n",
            "\u001b[1m9/9\u001b[0m \u001b[32m━━━━━━━━━━━━━━━━━━━━\u001b[0m\u001b[37m\u001b[0m \u001b[1m0s\u001b[0m 20ms/step - loss: 235108160.0000 - mae: 13112.2676 - val_loss: 302647392.0000 - val_mae: 14663.3633\n",
            "Epoch 24/50\n",
            "\u001b[1m9/9\u001b[0m \u001b[32m━━━━━━━━━━━━━━━━━━━━\u001b[0m\u001b[37m\u001b[0m \u001b[1m0s\u001b[0m 39ms/step - loss: 208024736.0000 - mae: 12530.3574 - val_loss: 300232320.0000 - val_mae: 14597.1768\n",
            "Epoch 25/50\n",
            "\u001b[1m9/9\u001b[0m \u001b[32m━━━━━━━━━━━━━━━━━━━━\u001b[0m\u001b[37m\u001b[0m \u001b[1m0s\u001b[0m 18ms/step - loss: 217693664.0000 - mae: 12598.7930 - val_loss: 297596576.0000 - val_mae: 14524.7109\n",
            "Epoch 26/50\n",
            "\u001b[1m9/9\u001b[0m \u001b[32m━━━━━━━━━━━━━━━━━━━━\u001b[0m\u001b[37m\u001b[0m \u001b[1m1s\u001b[0m 46ms/step - loss: 179519296.0000 - mae: 11841.5479 - val_loss: 294870848.0000 - val_mae: 14448.0439\n",
            "Epoch 27/50\n",
            "\u001b[1m9/9\u001b[0m \u001b[32m━━━━━━━━━━━━━━━━━━━━\u001b[0m\u001b[37m\u001b[0m \u001b[1m0s\u001b[0m 28ms/step - loss: 197684432.0000 - mae: 12196.1602 - val_loss: 291634048.0000 - val_mae: 14358.9375\n",
            "Epoch 28/50\n",
            "\u001b[1m9/9\u001b[0m \u001b[32m━━━━━━━━━━━━━━━━━━━━\u001b[0m\u001b[37m\u001b[0m \u001b[1m1s\u001b[0m 60ms/step - loss: 182905808.0000 - mae: 11783.9863 - val_loss: 288290240.0000 - val_mae: 14265.7383\n",
            "Epoch 29/50\n",
            "\u001b[1m9/9\u001b[0m \u001b[32m━━━━━━━━━━━━━━━━━━━━\u001b[0m\u001b[37m\u001b[0m \u001b[1m1s\u001b[0m 53ms/step - loss: 214505984.0000 - mae: 12563.1924 - val_loss: 284632096.0000 - val_mae: 14163.3652\n",
            "Epoch 30/50\n",
            "\u001b[1m9/9\u001b[0m \u001b[32m━━━━━━━━━━━━━━━━━━━━\u001b[0m\u001b[37m\u001b[0m \u001b[1m0s\u001b[0m 45ms/step - loss: 167584048.0000 - mae: 11356.5303 - val_loss: 280761984.0000 - val_mae: 14054.3955\n",
            "Epoch 31/50\n",
            "\u001b[1m9/9\u001b[0m \u001b[32m━━━━━━━━━━━━━━━━━━━━\u001b[0m\u001b[37m\u001b[0m \u001b[1m1s\u001b[0m 81ms/step - loss: 207154784.0000 - mae: 12466.5908 - val_loss: 276598272.0000 - val_mae: 13936.4873\n",
            "Epoch 32/50\n",
            "\u001b[1m9/9\u001b[0m \u001b[32m━━━━━━━━━━━━━━━━━━━━\u001b[0m\u001b[37m\u001b[0m \u001b[1m1s\u001b[0m 52ms/step - loss: 194129664.0000 - mae: 12004.8281 - val_loss: 272287552.0000 - val_mae: 13811.7930\n",
            "Epoch 33/50\n",
            "\u001b[1m9/9\u001b[0m \u001b[32m━━━━━━━━━━━━━━━━━━━━\u001b[0m\u001b[37m\u001b[0m \u001b[1m0s\u001b[0m 36ms/step - loss: 168169120.0000 - mae: 11308.8740 - val_loss: 268007024.0000 - val_mae: 13685.6963\n",
            "Epoch 34/50\n",
            "\u001b[1m9/9\u001b[0m \u001b[32m━━━━━━━━━━━━━━━━━━━━\u001b[0m\u001b[37m\u001b[0m \u001b[1m1s\u001b[0m 56ms/step - loss: 187626032.0000 - mae: 12051.4775 - val_loss: 263345680.0000 - val_mae: 13547.5254\n",
            "Epoch 35/50\n",
            "\u001b[1m9/9\u001b[0m \u001b[32m━━━━━━━━━━━━━━━━━━━━\u001b[0m\u001b[37m\u001b[0m \u001b[1m0s\u001b[0m 19ms/step - loss: 184311856.0000 - mae: 11632.2256 - val_loss: 258466160.0000 - val_mae: 13402.2686\n",
            "Epoch 36/50\n",
            "\u001b[1m9/9\u001b[0m \u001b[32m━━━━━━━━━━━━━━━━━━━━\u001b[0m\u001b[37m\u001b[0m \u001b[1m0s\u001b[0m 11ms/step - loss: 169057920.0000 - mae: 11178.7441 - val_loss: 253537536.0000 - val_mae: 13253.0283\n",
            "Epoch 37/50\n",
            "\u001b[1m9/9\u001b[0m \u001b[32m━━━━━━━━━━━━━━━━━━━━\u001b[0m\u001b[37m\u001b[0m \u001b[1m0s\u001b[0m 12ms/step - loss: 181671152.0000 - mae: 11539.1006 - val_loss: 248257280.0000 - val_mae: 13092.5830\n",
            "Epoch 38/50\n",
            "\u001b[1m9/9\u001b[0m \u001b[32m━━━━━━━━━━━━━━━━━━━━\u001b[0m\u001b[37m\u001b[0m \u001b[1m0s\u001b[0m 11ms/step - loss: 156281536.0000 - mae: 10769.6426 - val_loss: 243016960.0000 - val_mae: 12929.4248\n",
            "Epoch 39/50\n",
            "\u001b[1m9/9\u001b[0m \u001b[32m━━━━━━━━━━━━━━━━━━━━\u001b[0m\u001b[37m\u001b[0m \u001b[1m0s\u001b[0m 13ms/step - loss: 173849552.0000 - mae: 11319.9902 - val_loss: 237198528.0000 - val_mae: 12750.0547\n",
            "Epoch 40/50\n",
            "\u001b[1m9/9\u001b[0m \u001b[32m━━━━━━━━━━━━━━━━━━━━\u001b[0m\u001b[37m\u001b[0m \u001b[1m0s\u001b[0m 12ms/step - loss: 149008848.0000 - mae: 10325.8975 - val_loss: 231596688.0000 - val_mae: 12572.1621\n",
            "Epoch 41/50\n",
            "\u001b[1m9/9\u001b[0m \u001b[32m━━━━━━━━━━━━━━━━━━━━\u001b[0m\u001b[37m\u001b[0m \u001b[1m0s\u001b[0m 11ms/step - loss: 174742720.0000 - mae: 11023.8838 - val_loss: 225145152.0000 - val_mae: 12369.6865\n",
            "Epoch 42/50\n",
            "\u001b[1m9/9\u001b[0m \u001b[32m━━━━━━━━━━━━━━━━━━━━\u001b[0m\u001b[37m\u001b[0m \u001b[1m0s\u001b[0m 11ms/step - loss: 146627616.0000 - mae: 10280.0791 - val_loss: 219148304.0000 - val_mae: 12174.2676\n",
            "Epoch 43/50\n",
            "\u001b[1m9/9\u001b[0m \u001b[32m━━━━━━━━━━━━━━━━━━━━\u001b[0m\u001b[37m\u001b[0m \u001b[1m0s\u001b[0m 11ms/step - loss: 138093920.0000 - mae: 10002.8291 - val_loss: 212955680.0000 - val_mae: 11969.5098\n",
            "Epoch 44/50\n",
            "\u001b[1m9/9\u001b[0m \u001b[32m━━━━━━━━━━━━━━━━━━━━\u001b[0m\u001b[37m\u001b[0m \u001b[1m0s\u001b[0m 12ms/step - loss: 132193552.0000 - mae: 9769.3477 - val_loss: 206620528.0000 - val_mae: 11757.8184\n",
            "Epoch 45/50\n",
            "\u001b[1m9/9\u001b[0m \u001b[32m━━━━━━━━━━━━━━━━━━━━\u001b[0m\u001b[37m\u001b[0m \u001b[1m0s\u001b[0m 12ms/step - loss: 149774336.0000 - mae: 10122.6660 - val_loss: 200092400.0000 - val_mae: 11536.4688\n",
            "Epoch 46/50\n",
            "\u001b[1m9/9\u001b[0m \u001b[32m━━━━━━━━━━━━━━━━━━━━\u001b[0m\u001b[37m\u001b[0m \u001b[1m0s\u001b[0m 11ms/step - loss: 134301088.0000 - mae: 9655.4473 - val_loss: 193640576.0000 - val_mae: 11311.5049\n",
            "Epoch 47/50\n",
            "\u001b[1m9/9\u001b[0m \u001b[32m━━━━━━━━━━━━━━━━━━━━\u001b[0m\u001b[37m\u001b[0m \u001b[1m0s\u001b[0m 11ms/step - loss: 123423600.0000 - mae: 9352.9092 - val_loss: 186771072.0000 - val_mae: 11071.4795\n",
            "Epoch 48/50\n",
            "\u001b[1m9/9\u001b[0m \u001b[32m━━━━━━━━━━━━━━━━━━━━\u001b[0m\u001b[37m\u001b[0m \u001b[1m0s\u001b[0m 16ms/step - loss: 129892048.0000 - mae: 9419.1035 - val_loss: 179877696.0000 - val_mae: 10824.8008\n",
            "Epoch 49/50\n",
            "\u001b[1m9/9\u001b[0m \u001b[32m━━━━━━━━━━━━━━━━━━━━\u001b[0m\u001b[37m\u001b[0m \u001b[1m0s\u001b[0m 11ms/step - loss: 106398552.0000 - mae: 8728.9365 - val_loss: 173148256.0000 - val_mae: 10577.2969\n",
            "Epoch 50/50\n",
            "\u001b[1m9/9\u001b[0m \u001b[32m━━━━━━━━━━━━━━━━━━━━\u001b[0m\u001b[37m\u001b[0m \u001b[1m0s\u001b[0m 11ms/step - loss: 116365248.0000 - mae: 8908.8838 - val_loss: 165911184.0000 - val_mae: 10308.0020\n"
          ]
        },
        {
          "output_type": "execute_result",
          "data": {
            "text/plain": [
              "<keras.src.callbacks.history.History at 0x7ee8cdbb9fd0>"
            ]
          },
          "metadata": {},
          "execution_count": 6
        }
      ]
    },
    {
      "cell_type": "markdown",
      "source": [
        "#Cclass.csv 파일 불러오기"
      ],
      "metadata": {
        "id": "o_yLinYYF8QB"
      }
    },
    {
      "cell_type": "code",
      "source": [
        "import pandas as pd\n",
        "from sklearn.model_selection import train_test_split\n",
        "from sklearn.preprocessing import StandardScaler, OneHotEncoder\n",
        "from sklearn.compose import ColumnTransformer\n",
        "from sklearn.pipeline import Pipeline\n",
        "import tensorflow as tf\n",
        "from tensorflow.keras.models import Sequential\n",
        "from tensorflow.keras.layers import Dense\n",
        "\n",
        "# 데이터 불러오기\n",
        "df = pd.read_csv(\"/content/drive/MyDrive/2025-1/dl/cclass.csv\")\n",
        "\n",
        "# 타겟과 특성 분리\n",
        "X = df.drop(\"price\", axis=1)\n",
        "y = df[\"price\"]\n",
        "\n",
        "# 수치형과 범주형 특성 분리\n",
        "numerical_features = X.select_dtypes(include=['int64', 'float64']).columns.tolist()\n",
        "categorical_features = X.select_dtypes(include=['object']).columns.tolist()\n",
        "\n",
        "# 전처리 파이프라인\n",
        "preprocessor = ColumnTransformer([\n",
        "    (\"num\", StandardScaler(), numerical_features),\n",
        "    (\"cat\", OneHotEncoder(handle_unknown=\"ignore\"), categorical_features)\n",
        "])\n",
        "\n",
        "# 파이프라인 적용\n",
        "X_processed = preprocessor.fit_transform(X)\n",
        "\n",
        "# 데이터 분할\n",
        "X_train, X_test, y_train, y_test = train_test_split(X_processed, y, test_size=0.2, random_state=42)\n"
      ],
      "metadata": {
        "id": "cMkLJvs-F0ay"
      },
      "execution_count": null,
      "outputs": []
    },
    {
      "cell_type": "code",
      "source": [
        "# 모델 정의\n",
        "model = Sequential([\n",
        "    Dense(128, activation='relu', input_shape=(X_train.shape[1],)),\n",
        "    Dense(64, activation='relu'),\n",
        "    Dense(1)  # 회귀이므로 출력층은 1개 (Linear)\n",
        "])\n",
        "\n",
        "# 모델 컴파일\n",
        "model.compile(optimizer='adam', loss='mean_squared_error', metrics=['mae'])\n",
        "\n",
        "# 모델 학습\n",
        "model.fit(X_train, y_train, epochs=50, batch_size=32, validation_split=0.2)\n"
      ],
      "metadata": {
        "id": "UtfSlkVvGCdr",
        "outputId": "7f0d4b59-ce5d-46f9-d720-fb483eb9254c",
        "colab": {
          "base_uri": "https://localhost:8080/"
        }
      },
      "execution_count": null,
      "outputs": [
        {
          "output_type": "stream",
          "name": "stderr",
          "text": [
            "/usr/local/lib/python3.11/dist-packages/keras/src/layers/core/dense.py:87: UserWarning: Do not pass an `input_shape`/`input_dim` argument to a layer. When using Sequential models, prefer using an `Input(shape)` object as the first layer in the model instead.\n",
            "  super().__init__(activity_regularizer=activity_regularizer, **kwargs)\n"
          ]
        },
        {
          "output_type": "stream",
          "name": "stdout",
          "text": [
            "Epoch 1/50\n",
            "\u001b[1m78/78\u001b[0m \u001b[32m━━━━━━━━━━━━━━━━━━━━\u001b[0m\u001b[37m\u001b[0m \u001b[1m4s\u001b[0m 12ms/step - loss: 631442176.0000 - mae: 23604.3770 - val_loss: 623549120.0000 - val_mae: 23336.5801\n",
            "Epoch 2/50\n",
            "\u001b[1m78/78\u001b[0m \u001b[32m━━━━━━━━━━━━━━━━━━━━\u001b[0m\u001b[37m\u001b[0m \u001b[1m1s\u001b[0m 6ms/step - loss: 629554368.0000 - mae: 23538.7617 - val_loss: 605128384.0000 - val_mae: 22971.3457\n",
            "Epoch 3/50\n",
            "\u001b[1m78/78\u001b[0m \u001b[32m━━━━━━━━━━━━━━━━━━━━\u001b[0m\u001b[37m\u001b[0m \u001b[1m1s\u001b[0m 6ms/step - loss: 626137024.0000 - mae: 23448.0020 - val_loss: 546694464.0000 - val_mae: 21791.3906\n",
            "Epoch 4/50\n",
            "\u001b[1m78/78\u001b[0m \u001b[32m━━━━━━━━━━━━━━━━━━━━\u001b[0m\u001b[37m\u001b[0m \u001b[1m0s\u001b[0m 4ms/step - loss: 524433120.0000 - mae: 21441.2305 - val_loss: 436788192.0000 - val_mae: 19396.0879\n",
            "Epoch 5/50\n",
            "\u001b[1m78/78\u001b[0m \u001b[32m━━━━━━━━━━━━━━━━━━━━\u001b[0m\u001b[37m\u001b[0m \u001b[1m1s\u001b[0m 3ms/step - loss: 412982336.0000 - mae: 18849.5488 - val_loss: 291523360.0000 - val_mae: 15680.8555\n",
            "Epoch 6/50\n",
            "\u001b[1m78/78\u001b[0m \u001b[32m━━━━━━━━━━━━━━━━━━━━\u001b[0m\u001b[37m\u001b[0m \u001b[1m0s\u001b[0m 4ms/step - loss: 259507216.0000 - mae: 14628.3164 - val_loss: 154641200.0000 - val_mae: 11063.3760\n",
            "Epoch 7/50\n",
            "\u001b[1m78/78\u001b[0m \u001b[32m━━━━━━━━━━━━━━━━━━━━\u001b[0m\u001b[37m\u001b[0m \u001b[1m0s\u001b[0m 3ms/step - loss: 128241128.0000 - mae: 9804.9238 - val_loss: 65886892.0000 - val_mae: 6497.6528\n",
            "Epoch 8/50\n",
            "\u001b[1m78/78\u001b[0m \u001b[32m━━━━━━━━━━━━━━━━━━━━\u001b[0m\u001b[37m\u001b[0m \u001b[1m0s\u001b[0m 4ms/step - loss: 51986872.0000 - mae: 5590.6929 - val_loss: 30500526.0000 - val_mae: 3921.2051\n",
            "Epoch 9/50\n",
            "\u001b[1m78/78\u001b[0m \u001b[32m━━━━━━━━━━━━━━━━━━━━\u001b[0m\u001b[37m\u001b[0m \u001b[1m1s\u001b[0m 3ms/step - loss: 27304940.0000 - mae: 3596.5029 - val_loss: 21314308.0000 - val_mae: 3266.0037\n",
            "Epoch 10/50\n",
            "\u001b[1m78/78\u001b[0m \u001b[32m━━━━━━━━━━━━━━━━━━━━\u001b[0m\u001b[37m\u001b[0m \u001b[1m0s\u001b[0m 3ms/step - loss: 20300546.0000 - mae: 3122.7542 - val_loss: 18772042.0000 - val_mae: 3134.9150\n",
            "Epoch 11/50\n",
            "\u001b[1m78/78\u001b[0m \u001b[32m━━━━━━━━━━━━━━━━━━━━\u001b[0m\u001b[37m\u001b[0m \u001b[1m0s\u001b[0m 3ms/step - loss: 19578780.0000 - mae: 3058.6677 - val_loss: 17595750.0000 - val_mae: 3049.4368\n",
            "Epoch 12/50\n",
            "\u001b[1m78/78\u001b[0m \u001b[32m━━━━━━━━━━━━━━━━━━━━\u001b[0m\u001b[37m\u001b[0m \u001b[1m0s\u001b[0m 4ms/step - loss: 21180954.0000 - mae: 3148.2258 - val_loss: 16770831.0000 - val_mae: 2986.3276\n",
            "Epoch 13/50\n",
            "\u001b[1m78/78\u001b[0m \u001b[32m━━━━━━━━━━━━━━━━━━━━\u001b[0m\u001b[37m\u001b[0m \u001b[1m1s\u001b[0m 4ms/step - loss: 16385090.0000 - mae: 2872.3291 - val_loss: 16257160.0000 - val_mae: 2943.3325\n",
            "Epoch 14/50\n",
            "\u001b[1m78/78\u001b[0m \u001b[32m━━━━━━━━━━━━━━━━━━━━\u001b[0m\u001b[37m\u001b[0m \u001b[1m1s\u001b[0m 3ms/step - loss: 18223196.0000 - mae: 2989.0308 - val_loss: 15761625.0000 - val_mae: 2909.0527\n",
            "Epoch 15/50\n",
            "\u001b[1m78/78\u001b[0m \u001b[32m━━━━━━━━━━━━━━━━━━━━\u001b[0m\u001b[37m\u001b[0m \u001b[1m0s\u001b[0m 4ms/step - loss: 15715314.0000 - mae: 2820.1514 - val_loss: 15417684.0000 - val_mae: 2880.1025\n",
            "Epoch 16/50\n",
            "\u001b[1m78/78\u001b[0m \u001b[32m━━━━━━━━━━━━━━━━━━━━\u001b[0m\u001b[37m\u001b[0m \u001b[1m1s\u001b[0m 3ms/step - loss: 15387755.0000 - mae: 2805.0801 - val_loss: 15142408.0000 - val_mae: 2855.8030\n",
            "Epoch 17/50\n",
            "\u001b[1m78/78\u001b[0m \u001b[32m━━━━━━━━━━━━━━━━━━━━\u001b[0m\u001b[37m\u001b[0m \u001b[1m0s\u001b[0m 4ms/step - loss: 14761315.0000 - mae: 2755.9631 - val_loss: 14875120.0000 - val_mae: 2837.3203\n",
            "Epoch 18/50\n",
            "\u001b[1m78/78\u001b[0m \u001b[32m━━━━━━━━━━━━━━━━━━━━\u001b[0m\u001b[37m\u001b[0m \u001b[1m1s\u001b[0m 4ms/step - loss: 16433094.0000 - mae: 2809.4949 - val_loss: 14704151.0000 - val_mae: 2818.8274\n",
            "Epoch 19/50\n",
            "\u001b[1m78/78\u001b[0m \u001b[32m━━━━━━━━━━━━━━━━━━━━\u001b[0m\u001b[37m\u001b[0m \u001b[1m0s\u001b[0m 4ms/step - loss: 14830191.0000 - mae: 2719.2559 - val_loss: 14535171.0000 - val_mae: 2806.8809\n",
            "Epoch 20/50\n",
            "\u001b[1m78/78\u001b[0m \u001b[32m━━━━━━━━━━━━━━━━━━━━\u001b[0m\u001b[37m\u001b[0m \u001b[1m1s\u001b[0m 4ms/step - loss: 16018583.0000 - mae: 2837.1011 - val_loss: 14373778.0000 - val_mae: 2792.1506\n",
            "Epoch 21/50\n",
            "\u001b[1m78/78\u001b[0m \u001b[32m━━━━━━━━━━━━━━━━━━━━\u001b[0m\u001b[37m\u001b[0m \u001b[1m0s\u001b[0m 4ms/step - loss: 14876417.0000 - mae: 2696.3037 - val_loss: 14226394.0000 - val_mae: 2781.5659\n",
            "Epoch 22/50\n",
            "\u001b[1m78/78\u001b[0m \u001b[32m━━━━━━━━━━━━━━━━━━━━\u001b[0m\u001b[37m\u001b[0m \u001b[1m1s\u001b[0m 6ms/step - loss: 15979906.0000 - mae: 2754.9749 - val_loss: 14085195.0000 - val_mae: 2769.1448\n",
            "Epoch 23/50\n",
            "\u001b[1m78/78\u001b[0m \u001b[32m━━━━━━━━━━━━━━━━━━━━\u001b[0m\u001b[37m\u001b[0m \u001b[1m1s\u001b[0m 6ms/step - loss: 15130265.0000 - mae: 2712.6555 - val_loss: 13965916.0000 - val_mae: 2756.2517\n",
            "Epoch 24/50\n",
            "\u001b[1m78/78\u001b[0m \u001b[32m━━━━━━━━━━━━━━━━━━━━\u001b[0m\u001b[37m\u001b[0m \u001b[1m1s\u001b[0m 7ms/step - loss: 17189868.0000 - mae: 2782.1626 - val_loss: 13848389.0000 - val_mae: 2750.3992\n",
            "Epoch 25/50\n",
            "\u001b[1m78/78\u001b[0m \u001b[32m━━━━━━━━━━━━━━━━━━━━\u001b[0m\u001b[37m\u001b[0m \u001b[1m1s\u001b[0m 6ms/step - loss: 14487207.0000 - mae: 2707.0737 - val_loss: 13735481.0000 - val_mae: 2735.4722\n",
            "Epoch 26/50\n",
            "\u001b[1m78/78\u001b[0m \u001b[32m━━━━━━━━━━━━━━━━━━━━\u001b[0m\u001b[37m\u001b[0m \u001b[1m1s\u001b[0m 7ms/step - loss: 15134904.0000 - mae: 2758.0505 - val_loss: 13608019.0000 - val_mae: 2723.4519\n",
            "Epoch 27/50\n",
            "\u001b[1m78/78\u001b[0m \u001b[32m━━━━━━━━━━━━━━━━━━━━\u001b[0m\u001b[37m\u001b[0m \u001b[1m0s\u001b[0m 4ms/step - loss: 14961060.0000 - mae: 2671.2297 - val_loss: 13533865.0000 - val_mae: 2713.0115\n",
            "Epoch 28/50\n",
            "\u001b[1m78/78\u001b[0m \u001b[32m━━━━━━━━━━━━━━━━━━━━\u001b[0m\u001b[37m\u001b[0m \u001b[1m1s\u001b[0m 4ms/step - loss: 16075313.0000 - mae: 2762.8091 - val_loss: 13438575.0000 - val_mae: 2699.7473\n",
            "Epoch 29/50\n",
            "\u001b[1m78/78\u001b[0m \u001b[32m━━━━━━━━━━━━━━━━━━━━\u001b[0m\u001b[37m\u001b[0m \u001b[1m0s\u001b[0m 4ms/step - loss: 15322339.0000 - mae: 2673.7522 - val_loss: 13321011.0000 - val_mae: 2688.9756\n",
            "Epoch 30/50\n",
            "\u001b[1m78/78\u001b[0m \u001b[32m━━━━━━━━━━━━━━━━━━━━\u001b[0m\u001b[37m\u001b[0m \u001b[1m0s\u001b[0m 4ms/step - loss: 13869640.0000 - mae: 2642.2097 - val_loss: 13226763.0000 - val_mae: 2678.7874\n",
            "Epoch 31/50\n",
            "\u001b[1m78/78\u001b[0m \u001b[32m━━━━━━━━━━━━━━━━━━━━\u001b[0m\u001b[37m\u001b[0m \u001b[1m1s\u001b[0m 4ms/step - loss: 13964072.0000 - mae: 2618.3340 - val_loss: 13120607.0000 - val_mae: 2666.0454\n",
            "Epoch 32/50\n",
            "\u001b[1m78/78\u001b[0m \u001b[32m━━━━━━━━━━━━━━━━━━━━\u001b[0m\u001b[37m\u001b[0m \u001b[1m0s\u001b[0m 4ms/step - loss: 15781860.0000 - mae: 2712.6833 - val_loss: 13033119.0000 - val_mae: 2655.9377\n",
            "Epoch 33/50\n",
            "\u001b[1m78/78\u001b[0m \u001b[32m━━━━━━━━━━━━━━━━━━━━\u001b[0m\u001b[37m\u001b[0m \u001b[1m1s\u001b[0m 4ms/step - loss: 13809673.0000 - mae: 2617.9995 - val_loss: 12934487.0000 - val_mae: 2644.0156\n",
            "Epoch 34/50\n",
            "\u001b[1m78/78\u001b[0m \u001b[32m━━━━━━━━━━━━━━━━━━━━\u001b[0m\u001b[37m\u001b[0m \u001b[1m0s\u001b[0m 3ms/step - loss: 15151925.0000 - mae: 2646.8289 - val_loss: 12860147.0000 - val_mae: 2628.0125\n",
            "Epoch 35/50\n",
            "\u001b[1m78/78\u001b[0m \u001b[32m━━━━━━━━━━━━━━━━━━━━\u001b[0m\u001b[37m\u001b[0m \u001b[1m0s\u001b[0m 4ms/step - loss: 14093770.0000 - mae: 2646.2424 - val_loss: 12792774.0000 - val_mae: 2618.5383\n",
            "Epoch 36/50\n",
            "\u001b[1m78/78\u001b[0m \u001b[32m━━━━━━━━━━━━━━━━━━━━\u001b[0m\u001b[37m\u001b[0m \u001b[1m0s\u001b[0m 3ms/step - loss: 15020164.0000 - mae: 2686.2612 - val_loss: 12678687.0000 - val_mae: 2611.5630\n",
            "Epoch 37/50\n",
            "\u001b[1m78/78\u001b[0m \u001b[32m━━━━━━━━━━━━━━━━━━━━\u001b[0m\u001b[37m\u001b[0m \u001b[1m0s\u001b[0m 3ms/step - loss: 15563533.0000 - mae: 2666.7493 - val_loss: 12610631.0000 - val_mae: 2593.9375\n",
            "Epoch 38/50\n",
            "\u001b[1m78/78\u001b[0m \u001b[32m━━━━━━━━━━━━━━━━━━━━\u001b[0m\u001b[37m\u001b[0m \u001b[1m0s\u001b[0m 4ms/step - loss: 13826012.0000 - mae: 2641.0159 - val_loss: 12519890.0000 - val_mae: 2586.1584\n",
            "Epoch 39/50\n",
            "\u001b[1m78/78\u001b[0m \u001b[32m━━━━━━━━━━━━━━━━━━━━\u001b[0m\u001b[37m\u001b[0m \u001b[1m0s\u001b[0m 4ms/step - loss: 13664717.0000 - mae: 2600.9575 - val_loss: 12434341.0000 - val_mae: 2575.5698\n",
            "Epoch 40/50\n",
            "\u001b[1m78/78\u001b[0m \u001b[32m━━━━━━━━━━━━━━━━━━━━\u001b[0m\u001b[37m\u001b[0m \u001b[1m0s\u001b[0m 4ms/step - loss: 13226327.0000 - mae: 2569.9270 - val_loss: 12359863.0000 - val_mae: 2565.5708\n",
            "Epoch 41/50\n",
            "\u001b[1m78/78\u001b[0m \u001b[32m━━━━━━━━━━━━━━━━━━━━\u001b[0m\u001b[37m\u001b[0m \u001b[1m1s\u001b[0m 3ms/step - loss: 14172731.0000 - mae: 2634.1887 - val_loss: 12278549.0000 - val_mae: 2555.4294\n",
            "Epoch 42/50\n",
            "\u001b[1m78/78\u001b[0m \u001b[32m━━━━━━━━━━━━━━━━━━━━\u001b[0m\u001b[37m\u001b[0m \u001b[1m0s\u001b[0m 4ms/step - loss: 15610746.0000 - mae: 2602.3174 - val_loss: 12191502.0000 - val_mae: 2541.5532\n",
            "Epoch 43/50\n",
            "\u001b[1m78/78\u001b[0m \u001b[32m━━━━━━━━━━━━━━━━━━━━\u001b[0m\u001b[37m\u001b[0m \u001b[1m0s\u001b[0m 4ms/step - loss: 11912796.0000 - mae: 2434.3057 - val_loss: 12115826.0000 - val_mae: 2538.6624\n",
            "Epoch 44/50\n",
            "\u001b[1m78/78\u001b[0m \u001b[32m━━━━━━━━━━━━━━━━━━━━\u001b[0m\u001b[37m\u001b[0m \u001b[1m1s\u001b[0m 3ms/step - loss: 13110251.0000 - mae: 2545.9446 - val_loss: 12086396.0000 - val_mae: 2524.9148\n",
            "Epoch 45/50\n",
            "\u001b[1m78/78\u001b[0m \u001b[32m━━━━━━━━━━━━━━━━━━━━\u001b[0m\u001b[37m\u001b[0m \u001b[1m0s\u001b[0m 3ms/step - loss: 12572774.0000 - mae: 2541.6282 - val_loss: 12004130.0000 - val_mae: 2516.5244\n",
            "Epoch 46/50\n",
            "\u001b[1m78/78\u001b[0m \u001b[32m━━━━━━━━━━━━━━━━━━━━\u001b[0m\u001b[37m\u001b[0m \u001b[1m0s\u001b[0m 4ms/step - loss: 14073702.0000 - mae: 2558.1506 - val_loss: 11933285.0000 - val_mae: 2509.7244\n",
            "Epoch 47/50\n",
            "\u001b[1m78/78\u001b[0m \u001b[32m━━━━━━━━━━━━━━━━━━━━\u001b[0m\u001b[37m\u001b[0m \u001b[1m0s\u001b[0m 4ms/step - loss: 12674092.0000 - mae: 2513.7825 - val_loss: 11825449.0000 - val_mae: 2504.9858\n",
            "Epoch 48/50\n",
            "\u001b[1m78/78\u001b[0m \u001b[32m━━━━━━━━━━━━━━━━━━━━\u001b[0m\u001b[37m\u001b[0m \u001b[1m1s\u001b[0m 4ms/step - loss: 15462831.0000 - mae: 2624.9854 - val_loss: 11779423.0000 - val_mae: 2491.9124\n",
            "Epoch 49/50\n",
            "\u001b[1m78/78\u001b[0m \u001b[32m━━━━━━━━━━━━━━━━━━━━\u001b[0m\u001b[37m\u001b[0m \u001b[1m1s\u001b[0m 4ms/step - loss: 13466067.0000 - mae: 2499.8281 - val_loss: 11725186.0000 - val_mae: 2484.0044\n",
            "Epoch 50/50\n",
            "\u001b[1m78/78\u001b[0m \u001b[32m━━━━━━━━━━━━━━━━━━━━\u001b[0m\u001b[37m\u001b[0m \u001b[1m0s\u001b[0m 4ms/step - loss: 17074568.0000 - mae: 2645.8984 - val_loss: 11620011.0000 - val_mae: 2475.1670\n"
          ]
        },
        {
          "output_type": "execute_result",
          "data": {
            "text/plain": [
              "<keras.src.callbacks.history.History at 0x7ee8cd955bd0>"
            ]
          },
          "metadata": {},
          "execution_count": 8
        }
      ]
    },
    {
      "cell_type": "code",
      "source": [
        "loss, mae = model.evaluate(X_test, y_test)\n",
        "print(f\"Test Mean Absolute Error: {mae:.2f}\")\n"
      ],
      "metadata": {
        "id": "brXVakUYGKdO",
        "outputId": "5cfc2e7f-2b05-432c-ec85-6c68c5263a6b",
        "colab": {
          "base_uri": "https://localhost:8080/"
        }
      },
      "execution_count": null,
      "outputs": [
        {
          "output_type": "stream",
          "name": "stdout",
          "text": [
            "\u001b[1m25/25\u001b[0m \u001b[32m━━━━━━━━━━━━━━━━━━━━\u001b[0m\u001b[37m\u001b[0m \u001b[1m0s\u001b[0m 5ms/step - loss: 15998364.0000 - mae: 2723.5183\n",
            "Test Mean Absolute Error: 2535.56\n"
          ]
        }
      ]
    },
    {
      "cell_type": "markdown",
      "source": [
        "# 스마트 잠금 장치 : [인증 데이터, 차량 상태 데이터, Bluetooth 신호 데이터, 이상 행동 데이터, 위치 기반 데이터]\n",
        "\n",
        "- 원격 제어 차량 및 센서 잠금 장치 코드"
      ],
      "metadata": {
        "id": "J6wQb6M3rmnO"
      }
    },
    {
      "cell_type": "code",
      "source": [
        "import time\n",
        "import random\n",
        "\n",
        "class SmartCarSecuritySystem:\n",
        "    def __init__(self, key_code):\n",
        "        self.key_code = key_code\n",
        "        self.is_locked = True\n",
        "        self.alarm_on = False\n",
        "\n",
        "    def remote_lock(self):\n",
        "        self.is_locked = True\n",
        "        print(\"🔒 차량이 원격으로 잠겼습니다.\")\n",
        "\n",
        "    def remote_unlock(self, input_code):\n",
        "        if input_code == self.key_code:\n",
        "            self.is_locked = False\n",
        "            print(\"🔓 차량이 원격으로 열렸습니다.\")\n",
        "        else:\n",
        "            print(\"❌ 잘못된 키 코드! 접근 거부됨.\")\n",
        "\n",
        "    def door_sensor_trigger(self):\n",
        "        if self.is_locked:\n",
        "            self.alarm_on = True\n",
        "            print(\"🚨 경고! 차량이 잠긴 상태에서 문이 열렸습니다. 알람 울림!\")\n",
        "        else:\n",
        "            print(\"✅ 차량이 열린 상태에서 정상적인 문 열림 감지.\")\n",
        "\n",
        "    def reset_alarm(self):\n",
        "        if self.alarm_on:\n",
        "            print(\"🔕 알람이 꺼졌습니다.\")\n",
        "            self.alarm_on = False\n",
        "        else:\n",
        "            print(\"알람이 작동 중이 아닙니다.\")\n",
        "\n",
        "# 시스템 초기화 (키코드는 'secure123')\n",
        "car = SmartCarSecuritySystem('secure123')\n",
        "\n",
        "# 시뮬레이션 예시\n",
        "car.remote_lock()\n",
        "time.sleep(1)\n",
        "\n",
        "# 센서가 침입 감지\n",
        "car.door_sensor_trigger()\n",
        "time.sleep(1)\n",
        "\n",
        "# 알람 리셋 시도\n",
        "car.reset_alarm()\n",
        "time.sleep(1)\n",
        "\n",
        "# 정해진 키코드로 문 열기\n",
        "car.remote_unlock('secure123')\n",
        "time.sleep(1)\n",
        "\n",
        "# 문 열림 감지 (정상 상황)\n",
        "car.door_sensor_trigger()\n"
      ],
      "metadata": {
        "id": "Q0LCZU3JsT9v",
        "outputId": "a239f38b-c8d9-42e1-bfda-d974c70ff3f6",
        "colab": {
          "base_uri": "https://localhost:8080/"
        }
      },
      "execution_count": null,
      "outputs": [
        {
          "output_type": "stream",
          "name": "stdout",
          "text": [
            "🔒 차량이 원격으로 잠겼습니다.\n",
            "🚨 경고! 차량이 잠긴 상태에서 문이 열렸습니다. 알람 울림!\n",
            "🔕 알람이 꺼졌습니다.\n",
            "🔓 차량이 원격으로 열렸습니다.\n",
            "✅ 차량이 열린 상태에서 정상적인 문 열림 감지.\n"
          ]
        }
      ]
    },
    {
      "cell_type": "markdown",
      "source": [
        "#강제 침입 감지 + 알림 전송"
      ],
      "metadata": {
        "id": "1CP4eLCPPv1L"
      }
    },
    {
      "cell_type": "code",
      "source": [
        "import time\n",
        "import random\n",
        "\n",
        "class SmartCarAlarmSystem:\n",
        "    def __init__(self, owner_contact):\n",
        "        self.is_locked = True\n",
        "        self.alarm_on = False\n",
        "        self.owner_contact = owner_contact  # 차량 주인 연락처 (시뮬레이션용 문자열)\n",
        "\n",
        "    def lock(self):\n",
        "        self.is_locked = True\n",
        "        print(\"🔒 차량이 잠겼습니다.\")\n",
        "\n",
        "    def unlock(self, key_input, correct_key=\"secure123\"):\n",
        "        if key_input == correct_key:\n",
        "            self.is_locked = False\n",
        "            print(\"🔓 차량이 정상적으로 열렸습니다.\")\n",
        "        else:\n",
        "            print(\"❌ 잘못된 키. 접근 거부됨.\")\n",
        "\n",
        "    def detect_force_open(self):\n",
        "        # 차량이 잠긴 상태에서 강제로 문이 열리는 경우\n",
        "        if self.is_locked:\n",
        "            self.alarm_on = True\n",
        "            self.send_alert()\n",
        "        else:\n",
        "            print(\"🚗 차량이 이미 열려 있어 센서 경고 없음.\")\n",
        "\n",
        "    def send_alert(self):\n",
        "        print(\"🚨 강제 침입 감지! 차량 알람 작동 중!\")\n",
        "        print(f\"📩 차량 주인({self.owner_contact})에게 알림 전송: '차량 문이 강제로 열렸습니다. 확인해 주세요!'\")\n",
        "\n",
        "    def reset_alarm(self):\n",
        "        if self.alarm_on:\n",
        "            self.alarm_on = False\n",
        "            print(\"🔕 알람이 해제되었습니다.\")\n",
        "        else:\n",
        "            print(\"알람이 작동 중이 아닙니다.\")\n",
        "\n",
        "# 차량 주인의 연락처 등록 (시뮬레이션용)\n",
        "car = SmartCarAlarmSystem(owner_contact=\"010-1234-5678\")\n",
        "\n",
        "# 시나리오 실행\n",
        "car.lock()               # 차량 잠금\n",
        "time.sleep(1)\n",
        "\n",
        "car.detect_force_open()  # 침입 시도 감지\n",
        "time.sleep(1)\n",
        "\n",
        "car.reset_alarm()        # 알람 해제\n"
      ],
      "metadata": {
        "id": "eRJV812jPAJC",
        "outputId": "55ccea8f-3145-4c3d-a7bc-f783b06ec7a5",
        "colab": {
          "base_uri": "https://localhost:8080/"
        }
      },
      "execution_count": null,
      "outputs": [
        {
          "output_type": "stream",
          "name": "stdout",
          "text": [
            "🔒 차량이 잠겼습니다.\n",
            "🚨 강제 침입 감지! 차량 알람 작동 중!\n",
            "📩 차량 주인(010-1234-5678)에게 알림 전송: '차량 문이 강제로 열렸습니다. 확인해 주세요!'\n",
            "🔕 알람이 해제되었습니다.\n"
          ]
        }
      ]
    },
    {
      "cell_type": "markdown",
      "source": [
        "# GPS 추적 시스템 : [위치 데이터, 속도 데이터, 시간 데이터, 배터리 상태, 운전 경로 데이터를 사용하여 차량 위치, 속도, 차량의 상태 등 경로를 빠르게 파악 후 검거를 할 수 있게끔 하는 것입니다.]\n",
        "- GPS + CCTV 추적 시스템"
      ],
      "metadata": {
        "id": "urL2iJmVQRRa"
      }
    },
    {
      "cell_type": "code",
      "source": [
        "import time\n",
        "import random\n",
        "from datetime import datetime\n",
        "\n",
        "class VehicleTracker:\n",
        "    def __init__(self, vehicle_id):\n",
        "        self.vehicle_id = vehicle_id\n",
        "        self.current_location = (37.5665, 126.9780)  # 서울 시청 (초기 위치)\n",
        "        self.tracking_log = []\n",
        "\n",
        "    def get_gps_location(self):\n",
        "        # GPS 위치를 임의로 변동시켜 이동을 시뮬레이션\n",
        "        lat_shift = random.uniform(-0.0005, 0.0005)\n",
        "        lon_shift = random.uniform(-0.0005, 0.0005)\n",
        "        lat, lon = self.current_location\n",
        "        new_location = (lat + lat_shift, lon + lon_shift)\n",
        "        self.current_location = new_location\n",
        "        return new_location\n",
        "\n",
        "    def capture_cctv(self):\n",
        "        # 실제 카메라 대신 캡처 시각 및 더미 이미지 파일명 반환\n",
        "        timestamp = datetime.now().strftime('%Y%m%d_%H%M%S')\n",
        "        image_name = f\"vehicle_{self.vehicle_id}_{timestamp}.jpg\"\n",
        "        print(f\"📷 CCTV 이미지 캡처: {image_name}\")\n",
        "        return image_name\n",
        "\n",
        "    def track_vehicle(self):\n",
        "        location = self.get_gps_location()\n",
        "        image = self.capture_cctv()\n",
        "        log_entry = {\n",
        "            \"timestamp\": datetime.now().strftime('%Y-%m-%d %H:%M:%S'),\n",
        "            \"location\": location,\n",
        "            \"image\": image\n",
        "        }\n",
        "        self.tracking_log.append(log_entry)\n",
        "        print(f\"🛰 위치: {location}, 기록 저장 완료\\n\")\n",
        "\n",
        "# 사용 예시\n",
        "tracker = VehicleTracker(vehicle_id=\"A1234\")\n",
        "\n",
        "# 차량이 이동하면서 5회 추적 시뮬레이션\n",
        "for _ in range(5):\n",
        "    tracker.track_vehicle()\n",
        "    time.sleep(1)  # 1초 간격으로 추적"
      ],
      "metadata": {
        "id": "jpjVtc2OQI_F",
        "outputId": "c363d17b-d43d-40ef-9ff1-2b6d3e09ec2a",
        "colab": {
          "base_uri": "https://localhost:8080/"
        }
      },
      "execution_count": null,
      "outputs": [
        {
          "output_type": "stream",
          "name": "stdout",
          "text": [
            "📷 CCTV 이미지 캡처: vehicle_A1234_20250515_045338.jpg\n",
            "🛰 위치: (37.56629959350034, 126.9775446348743), 기록 저장 완료\n",
            "\n",
            "📷 CCTV 이미지 캡처: vehicle_A1234_20250515_045339.jpg\n",
            "🛰 위치: (37.56665976788727, 126.97726463992146), 기록 저장 완료\n",
            "\n",
            "📷 CCTV 이미지 캡처: vehicle_A1234_20250515_045340.jpg\n",
            "🛰 위치: (37.566790347522364, 126.97726162100055), 기록 저장 완료\n",
            "\n",
            "📷 CCTV 이미지 캡처: vehicle_A1234_20250515_045341.jpg\n",
            "🛰 위치: (37.566445469512765, 126.97734161955341), 기록 저장 완료\n",
            "\n",
            "📷 CCTV 이미지 캡처: vehicle_A1234_20250515_045342.jpg\n",
            "🛰 위치: (37.56676098717429, 126.97719433683987), 기록 저장 완료\n",
            "\n"
          ]
        }
      ]
    },
    {
      "cell_type": "markdown",
      "source": [
        "#자신이 소유한 차량의 정보를 등록하면 gps나 위치가 나오게하는 방법"
      ],
      "metadata": {
        "id": "DaqnP3r9QdsN"
      }
    },
    {
      "cell_type": "code",
      "source": [
        "import time\n",
        "import random\n",
        "from datetime import datetime\n",
        "\n",
        "class VehicleTrackerSystem:\n",
        "    def __init__(self):\n",
        "        self.vehicles = {}  # 차량번호 → 차량 데이터 저장\n",
        "\n",
        "    def register_vehicle(self, vehicle_number, owner_name, model_name, status=\"정상\"):\n",
        "        if vehicle_number not in self.vehicles:\n",
        "            self.vehicles[vehicle_number] = {\n",
        "                \"owner\": owner_name,\n",
        "                \"model\": model_name,\n",
        "                \"status\": status,\n",
        "                \"location\": (37.5665, 126.9780),\n",
        "                \"log\": []\n",
        "            }\n",
        "            print(f\"✅ 차량 '{vehicle_number}' 등록 완료.\")\n",
        "        else:\n",
        "            print(\"⚠️ 이미 등록된 차량입니다.\")\n",
        "\n",
        "    def simulate_tracking(self, vehicle_number):\n",
        "        if vehicle_number not in self.vehicles:\n",
        "            print(\"🚫 등록되지 않은 차량입니다.\")\n",
        "            return\n",
        "\n",
        "        lat_shift = random.uniform(-0.0005, 0.0005)\n",
        "        lon_shift = random.uniform(-0.0005, 0.0005)\n",
        "        lat, lon = self.vehicles[vehicle_number][\"location\"]\n",
        "        new_location = (lat + lat_shift, lon + lon_shift)\n",
        "        timestamp = datetime.now().strftime('%Y-%m-%d %H:%M:%S')\n",
        "        image_name = f\"{vehicle_number}_{timestamp.replace(':', '')}.jpg\"\n",
        "\n",
        "        self.vehicles[vehicle_number][\"location\"] = new_location\n",
        "        self.vehicles[vehicle_number][\"log\"].append({\n",
        "            \"timestamp\": timestamp,\n",
        "            \"location\": new_location,\n",
        "            \"image\": image_name\n",
        "        })\n",
        "        print(f\"🛰 차량 '{vehicle_number}' 위치 업데이트 완료.\")\n",
        "\n",
        "    def query_vehicle(self, vehicle_number):\n",
        "        if vehicle_number not in self.vehicles:\n",
        "            print(\"❌ 해당 차량은 등록되어 있지 않습니다.\")\n",
        "            return\n",
        "\n",
        "        vehicle_data = self.vehicles[vehicle_number]\n",
        "        if not vehicle_data[\"log\"]:\n",
        "            print(\"ℹ️ 아직 추적 기록이 없습니다.\")\n",
        "            return\n",
        "\n",
        "        latest = vehicle_data[\"log\"][-1]\n",
        "        print(f\"\"\"\n",
        "🚗 차량 번호: {vehicle_number}\n",
        "👤 운전자: {vehicle_data['owner']}\n",
        "🚙 모델명: {vehicle_data['model']}\n",
        "⚙️ 차량 상태: {vehicle_data['status']}\n",
        "📍 최근 위치: {latest['location']}\n",
        "🕒 시간: {latest['timestamp']}\n",
        "📸 CCTV 이미지 파일: {latest['image']}\n",
        "\"\"\")\n",
        "\n",
        "# ------------------------------\n",
        "# 사용 예시\n",
        "system = VehicleTrackerSystem()\n",
        "\n",
        "# 차량 등록\n",
        "system.register_vehicle(\"12가3456\", owner_name=\"홍길동\", model_name=\"Kia K5\", status=\"정상\")\n",
        "system.register_vehicle(\"34나5678\", owner_name=\"김영희\", model_name=\"Hyundai Avante\", status=\"도난 신고\")\n",
        "\n",
        "# 위치 추적 시뮬레이션\n",
        "for _ in range(2):\n",
        "    system.simulate_tracking(\"12가3456\")\n",
        "    system.simulate_tracking(\"34나5678\")\n",
        "    time.sleep(1)\n",
        "\n",
        "# 차량 정보 조회\n",
        "system.query_vehicle(\"12가3456\")\n",
        "system.query_vehicle(\"34나5678\")\n"
      ],
      "metadata": {
        "id": "LwmSBX6QQ3hb",
        "outputId": "9921fe1b-2ab9-4e32-85b5-81350726fc9d",
        "colab": {
          "base_uri": "https://localhost:8080/"
        }
      },
      "execution_count": null,
      "outputs": [
        {
          "output_type": "stream",
          "name": "stdout",
          "text": [
            "✅ 차량 '12가3456' 등록 완료.\n",
            "✅ 차량 '34나5678' 등록 완료.\n",
            "🛰 차량 '12가3456' 위치 업데이트 완료.\n",
            "🛰 차량 '34나5678' 위치 업데이트 완료.\n",
            "🛰 차량 '12가3456' 위치 업데이트 완료.\n",
            "🛰 차량 '34나5678' 위치 업데이트 완료.\n",
            "\n",
            "🚗 차량 번호: 12가3456\n",
            "👤 운전자: 홍길동\n",
            "🚙 모델명: Kia K5\n",
            "⚙️ 차량 상태: 정상\n",
            "📍 최근 위치: (37.5665359770021, 126.97768047857792)\n",
            "🕒 시간: 2025-05-15 04:53:44\n",
            "📸 CCTV 이미지 파일: 12가3456_2025-05-15 045344.jpg\n",
            "\n",
            "\n",
            "🚗 차량 번호: 34나5678\n",
            "👤 운전자: 김영희\n",
            "🚙 모델명: Hyundai Avante\n",
            "⚙️ 차량 상태: 도난 신고\n",
            "📍 최근 위치: (37.56666630981418, 126.97798485157541)\n",
            "🕒 시간: 2025-05-15 04:53:44\n",
            "📸 CCTV 이미지 파일: 34나5678_2025-05-15 045344.jpg\n",
            "\n"
          ]
        }
      ]
    },
    {
      "cell_type": "code",
      "source": [
        "import folium\n",
        "\n",
        "# 예: 현재 GPS 위치 (임의값 또는 센서에서 수신 가능)\n",
        "current_latitude = 37.5665   # 서울 광화문 좌표 예시\n",
        "current_longitude = 126.9780\n",
        "\n",
        "# 지도 생성\n",
        "current_map = folium.Map(location=[current_latitude, current_longitude], zoom_start=15)\n",
        "\n",
        "# 마커 추가\n",
        "folium.Marker(\n",
        "    location=[current_latitude, current_longitude],\n",
        "    popup=\"현재 차량 위치\",\n",
        "    tooltip=\"현재 위치\",\n",
        "    icon=folium.Icon(color=\"blue\", icon=\"info-sign\")\n",
        ").add_to(current_map)\n",
        "\n",
        "# 지도 표시 (Jupyter/Colab 환경)\n",
        "current_map\n"
      ],
      "metadata": {
        "id": "ZbvU7tXCT1ii",
        "outputId": "c3db2ba4-3d1c-4295-a4a1-bd5984dd2b66",
        "colab": {
          "base_uri": "https://localhost:8080/",
          "height": 1000
        }
      },
      "execution_count": null,
      "outputs": [
        {
          "output_type": "execute_result",
          "data": {
            "text/plain": [
              "<folium.folium.Map at 0x7ee8ccdf9250>"
            ],
            "text/html": [
              "<div style=\"width:100%;\"><div style=\"position:relative;width:100%;height:0;padding-bottom:60%;\"><span style=\"color:#565656\">Make this Notebook Trusted to load map: File -> Trust Notebook</span><iframe srcdoc=\"&lt;!DOCTYPE html&gt;\n",
              "&lt;html&gt;\n",
              "&lt;head&gt;\n",
              "    \n",
              "    &lt;meta http-equiv=&quot;content-type&quot; content=&quot;text/html; charset=UTF-8&quot; /&gt;\n",
              "    \n",
              "        &lt;script&gt;\n",
              "            L_NO_TOUCH = false;\n",
              "            L_DISABLE_3D = false;\n",
              "        &lt;/script&gt;\n",
              "    \n",
              "    &lt;style&gt;html, body {width: 100%;height: 100%;margin: 0;padding: 0;}&lt;/style&gt;\n",
              "    &lt;style&gt;#map {position:absolute;top:0;bottom:0;right:0;left:0;}&lt;/style&gt;\n",
              "    &lt;script src=&quot;https://cdn.jsdelivr.net/npm/leaflet@1.9.3/dist/leaflet.js&quot;&gt;&lt;/script&gt;\n",
              "    &lt;script src=&quot;https://code.jquery.com/jquery-3.7.1.min.js&quot;&gt;&lt;/script&gt;\n",
              "    &lt;script src=&quot;https://cdn.jsdelivr.net/npm/bootstrap@5.2.2/dist/js/bootstrap.bundle.min.js&quot;&gt;&lt;/script&gt;\n",
              "    &lt;script src=&quot;https://cdnjs.cloudflare.com/ajax/libs/Leaflet.awesome-markers/2.0.2/leaflet.awesome-markers.js&quot;&gt;&lt;/script&gt;\n",
              "    &lt;link rel=&quot;stylesheet&quot; href=&quot;https://cdn.jsdelivr.net/npm/leaflet@1.9.3/dist/leaflet.css&quot;/&gt;\n",
              "    &lt;link rel=&quot;stylesheet&quot; href=&quot;https://cdn.jsdelivr.net/npm/bootstrap@5.2.2/dist/css/bootstrap.min.css&quot;/&gt;\n",
              "    &lt;link rel=&quot;stylesheet&quot; href=&quot;https://netdna.bootstrapcdn.com/bootstrap/3.0.0/css/bootstrap-glyphicons.css&quot;/&gt;\n",
              "    &lt;link rel=&quot;stylesheet&quot; href=&quot;https://cdn.jsdelivr.net/npm/@fortawesome/fontawesome-free@6.2.0/css/all.min.css&quot;/&gt;\n",
              "    &lt;link rel=&quot;stylesheet&quot; href=&quot;https://cdnjs.cloudflare.com/ajax/libs/Leaflet.awesome-markers/2.0.2/leaflet.awesome-markers.css&quot;/&gt;\n",
              "    &lt;link rel=&quot;stylesheet&quot; href=&quot;https://cdn.jsdelivr.net/gh/python-visualization/folium/folium/templates/leaflet.awesome.rotate.min.css&quot;/&gt;\n",
              "    \n",
              "            &lt;meta name=&quot;viewport&quot; content=&quot;width=device-width,\n",
              "                initial-scale=1.0, maximum-scale=1.0, user-scalable=no&quot; /&gt;\n",
              "            &lt;style&gt;\n",
              "                #map_b0b8bb719bc49da296165264717329a2 {\n",
              "                    position: relative;\n",
              "                    width: 100.0%;\n",
              "                    height: 100.0%;\n",
              "                    left: 0.0%;\n",
              "                    top: 0.0%;\n",
              "                }\n",
              "                .leaflet-container { font-size: 1rem; }\n",
              "            &lt;/style&gt;\n",
              "        \n",
              "&lt;/head&gt;\n",
              "&lt;body&gt;\n",
              "    \n",
              "    \n",
              "            &lt;div class=&quot;folium-map&quot; id=&quot;map_b0b8bb719bc49da296165264717329a2&quot; &gt;&lt;/div&gt;\n",
              "        \n",
              "&lt;/body&gt;\n",
              "&lt;script&gt;\n",
              "    \n",
              "    \n",
              "            var map_b0b8bb719bc49da296165264717329a2 = L.map(\n",
              "                &quot;map_b0b8bb719bc49da296165264717329a2&quot;,\n",
              "                {\n",
              "                    center: [37.5665, 126.978],\n",
              "                    crs: L.CRS.EPSG3857,\n",
              "                    ...{\n",
              "  &quot;zoom&quot;: 15,\n",
              "  &quot;zoomControl&quot;: true,\n",
              "  &quot;preferCanvas&quot;: false,\n",
              "}\n",
              "\n",
              "                }\n",
              "            );\n",
              "\n",
              "            \n",
              "\n",
              "        \n",
              "    \n",
              "            var tile_layer_af3926c298f3d9a953253aec1f090f27 = L.tileLayer(\n",
              "                &quot;https://tile.openstreetmap.org/{z}/{x}/{y}.png&quot;,\n",
              "                {\n",
              "  &quot;minZoom&quot;: 0,\n",
              "  &quot;maxZoom&quot;: 19,\n",
              "  &quot;maxNativeZoom&quot;: 19,\n",
              "  &quot;noWrap&quot;: false,\n",
              "  &quot;attribution&quot;: &quot;\\u0026copy; \\u003ca href=\\&quot;https://www.openstreetmap.org/copyright\\&quot;\\u003eOpenStreetMap\\u003c/a\\u003e contributors&quot;,\n",
              "  &quot;subdomains&quot;: &quot;abc&quot;,\n",
              "  &quot;detectRetina&quot;: false,\n",
              "  &quot;tms&quot;: false,\n",
              "  &quot;opacity&quot;: 1,\n",
              "}\n",
              "\n",
              "            );\n",
              "        \n",
              "    \n",
              "            tile_layer_af3926c298f3d9a953253aec1f090f27.addTo(map_b0b8bb719bc49da296165264717329a2);\n",
              "        \n",
              "    \n",
              "            var marker_4e4e141587e823d9a5eab83216fe3a2d = L.marker(\n",
              "                [37.5665, 126.978],\n",
              "                {\n",
              "}\n",
              "            ).addTo(map_b0b8bb719bc49da296165264717329a2);\n",
              "        \n",
              "    \n",
              "            var icon_b4f5df9fd5732e71019754ee2c544961 = L.AwesomeMarkers.icon(\n",
              "                {\n",
              "  &quot;markerColor&quot;: &quot;blue&quot;,\n",
              "  &quot;iconColor&quot;: &quot;white&quot;,\n",
              "  &quot;icon&quot;: &quot;info-sign&quot;,\n",
              "  &quot;prefix&quot;: &quot;glyphicon&quot;,\n",
              "  &quot;extraClasses&quot;: &quot;fa-rotate-0&quot;,\n",
              "}\n",
              "            );\n",
              "        \n",
              "    \n",
              "        var popup_10521a807a3910ba4262e6306d58ae9a = L.popup({\n",
              "  &quot;maxWidth&quot;: &quot;100%&quot;,\n",
              "});\n",
              "\n",
              "        \n",
              "            \n",
              "                var html_7f54ffe41dd66ae8013c492b94907319 = $(`&lt;div id=&quot;html_7f54ffe41dd66ae8013c492b94907319&quot; style=&quot;width: 100.0%; height: 100.0%;&quot;&gt;현재 차량 위치&lt;/div&gt;`)[0];\n",
              "                popup_10521a807a3910ba4262e6306d58ae9a.setContent(html_7f54ffe41dd66ae8013c492b94907319);\n",
              "            \n",
              "        \n",
              "\n",
              "        marker_4e4e141587e823d9a5eab83216fe3a2d.bindPopup(popup_10521a807a3910ba4262e6306d58ae9a)\n",
              "        ;\n",
              "\n",
              "        \n",
              "    \n",
              "    \n",
              "            marker_4e4e141587e823d9a5eab83216fe3a2d.bindTooltip(\n",
              "                `&lt;div&gt;\n",
              "                     현재 위치\n",
              "                 &lt;/div&gt;`,\n",
              "                {\n",
              "  &quot;sticky&quot;: true,\n",
              "}\n",
              "            );\n",
              "        \n",
              "    \n",
              "                marker_4e4e141587e823d9a5eab83216fe3a2d.setIcon(icon_b4f5df9fd5732e71019754ee2c544961);\n",
              "            \n",
              "&lt;/script&gt;\n",
              "&lt;/html&gt;\" style=\"position:absolute;width:100%;height:100%;left:0;top:0;border:none !important;\" allowfullscreen webkitallowfullscreen mozallowfullscreen></iframe></div></div>"
            ]
          },
          "metadata": {},
          "execution_count": 12
        }
      ]
    },
    {
      "cell_type": "code",
      "source": [
        "import serial\n",
        "import pynmea2\n",
        "\n",
        "port = \"/dev/ttyUSB0\"  # 포트 이름은 시스템에 따라 다름\n",
        "ser = serial.Serial('COM2', baudrate=9600, timeout=1)\n",
        "\n",
        "\n",
        "while True:\n",
        "    data = ser.readline().decode('ascii', errors='replace')\n",
        "    if data.startswith('$GPGGA'):\n",
        "        msg = pynmea2.parse(data)\n",
        "        lat = msg.latitude\n",
        "        lon = msg.longitude\n",
        "        print(f\"현재 위치: {lat}, {lon}\")\n",
        "        break\n"
      ],
      "metadata": {
        "id": "s8eDHgwYG_Ko",
        "outputId": "a143bd1b-89ff-48ff-8913-a52934b189c9",
        "colab": {
          "base_uri": "https://localhost:8080/",
          "height": 408
        }
      },
      "execution_count": null,
      "outputs": [
        {
          "output_type": "error",
          "ename": "SerialException",
          "evalue": "[Errno 2] could not open port COM2: [Errno 2] No such file or directory: 'COM2'",
          "traceback": [
            "\u001b[0;31m---------------------------------------------------------------------------\u001b[0m",
            "\u001b[0;31mFileNotFoundError\u001b[0m                         Traceback (most recent call last)",
            "\u001b[0;32m/usr/local/lib/python3.11/dist-packages/serial/serialposix.py\u001b[0m in \u001b[0;36mopen\u001b[0;34m(self)\u001b[0m\n\u001b[1;32m    321\u001b[0m         \u001b[0;32mtry\u001b[0m\u001b[0;34m:\u001b[0m\u001b[0;34m\u001b[0m\u001b[0;34m\u001b[0m\u001b[0m\n\u001b[0;32m--> 322\u001b[0;31m             \u001b[0mself\u001b[0m\u001b[0;34m.\u001b[0m\u001b[0mfd\u001b[0m \u001b[0;34m=\u001b[0m \u001b[0mos\u001b[0m\u001b[0;34m.\u001b[0m\u001b[0mopen\u001b[0m\u001b[0;34m(\u001b[0m\u001b[0mself\u001b[0m\u001b[0;34m.\u001b[0m\u001b[0mportstr\u001b[0m\u001b[0;34m,\u001b[0m \u001b[0mos\u001b[0m\u001b[0;34m.\u001b[0m\u001b[0mO_RDWR\u001b[0m \u001b[0;34m|\u001b[0m \u001b[0mos\u001b[0m\u001b[0;34m.\u001b[0m\u001b[0mO_NOCTTY\u001b[0m \u001b[0;34m|\u001b[0m \u001b[0mos\u001b[0m\u001b[0;34m.\u001b[0m\u001b[0mO_NONBLOCK\u001b[0m\u001b[0;34m)\u001b[0m\u001b[0;34m\u001b[0m\u001b[0;34m\u001b[0m\u001b[0m\n\u001b[0m\u001b[1;32m    323\u001b[0m         \u001b[0;32mexcept\u001b[0m \u001b[0mOSError\u001b[0m \u001b[0;32mas\u001b[0m \u001b[0mmsg\u001b[0m\u001b[0;34m:\u001b[0m\u001b[0;34m\u001b[0m\u001b[0;34m\u001b[0m\u001b[0m\n",
            "\u001b[0;31mFileNotFoundError\u001b[0m: [Errno 2] No such file or directory: 'COM2'",
            "\nDuring handling of the above exception, another exception occurred:\n",
            "\u001b[0;31mSerialException\u001b[0m                           Traceback (most recent call last)",
            "\u001b[0;32m<ipython-input-24-6ad6926e4884>\u001b[0m in \u001b[0;36m<cell line: 0>\u001b[0;34m()\u001b[0m\n\u001b[1;32m      3\u001b[0m \u001b[0;34m\u001b[0m\u001b[0m\n\u001b[1;32m      4\u001b[0m \u001b[0mport\u001b[0m \u001b[0;34m=\u001b[0m \u001b[0;34m\"/dev/ttyUSB0\"\u001b[0m  \u001b[0;31m# 포트 이름은 시스템에 따라 다름\u001b[0m\u001b[0;34m\u001b[0m\u001b[0;34m\u001b[0m\u001b[0m\n\u001b[0;32m----> 5\u001b[0;31m \u001b[0mser\u001b[0m \u001b[0;34m=\u001b[0m \u001b[0mserial\u001b[0m\u001b[0;34m.\u001b[0m\u001b[0mSerial\u001b[0m\u001b[0;34m(\u001b[0m\u001b[0;34m'COM2'\u001b[0m\u001b[0;34m,\u001b[0m \u001b[0mbaudrate\u001b[0m\u001b[0;34m=\u001b[0m\u001b[0;36m9600\u001b[0m\u001b[0;34m,\u001b[0m \u001b[0mtimeout\u001b[0m\u001b[0;34m=\u001b[0m\u001b[0;36m1\u001b[0m\u001b[0;34m)\u001b[0m\u001b[0;34m\u001b[0m\u001b[0;34m\u001b[0m\u001b[0m\n\u001b[0m\u001b[1;32m      6\u001b[0m \u001b[0;34m\u001b[0m\u001b[0m\n\u001b[1;32m      7\u001b[0m \u001b[0;34m\u001b[0m\u001b[0m\n",
            "\u001b[0;32m/usr/local/lib/python3.11/dist-packages/serial/serialutil.py\u001b[0m in \u001b[0;36m__init__\u001b[0;34m(self, port, baudrate, bytesize, parity, stopbits, timeout, xonxoff, rtscts, write_timeout, dsrdtr, inter_byte_timeout, exclusive, **kwargs)\u001b[0m\n\u001b[1;32m    242\u001b[0m \u001b[0;34m\u001b[0m\u001b[0m\n\u001b[1;32m    243\u001b[0m         \u001b[0;32mif\u001b[0m \u001b[0mport\u001b[0m \u001b[0;32mis\u001b[0m \u001b[0;32mnot\u001b[0m \u001b[0;32mNone\u001b[0m\u001b[0;34m:\u001b[0m\u001b[0;34m\u001b[0m\u001b[0;34m\u001b[0m\u001b[0m\n\u001b[0;32m--> 244\u001b[0;31m             \u001b[0mself\u001b[0m\u001b[0;34m.\u001b[0m\u001b[0mopen\u001b[0m\u001b[0;34m(\u001b[0m\u001b[0;34m)\u001b[0m\u001b[0;34m\u001b[0m\u001b[0;34m\u001b[0m\u001b[0m\n\u001b[0m\u001b[1;32m    245\u001b[0m \u001b[0;34m\u001b[0m\u001b[0m\n\u001b[1;32m    246\u001b[0m     \u001b[0;31m#  -  -  -  -  -  -  -  -  -  -  -  -  -  -  -  -  -  -  -  -  -  -  -  -\u001b[0m\u001b[0;34m\u001b[0m\u001b[0;34m\u001b[0m\u001b[0m\n",
            "\u001b[0;32m/usr/local/lib/python3.11/dist-packages/serial/serialposix.py\u001b[0m in \u001b[0;36mopen\u001b[0;34m(self)\u001b[0m\n\u001b[1;32m    323\u001b[0m         \u001b[0;32mexcept\u001b[0m \u001b[0mOSError\u001b[0m \u001b[0;32mas\u001b[0m \u001b[0mmsg\u001b[0m\u001b[0;34m:\u001b[0m\u001b[0;34m\u001b[0m\u001b[0;34m\u001b[0m\u001b[0m\n\u001b[1;32m    324\u001b[0m             \u001b[0mself\u001b[0m\u001b[0;34m.\u001b[0m\u001b[0mfd\u001b[0m \u001b[0;34m=\u001b[0m \u001b[0;32mNone\u001b[0m\u001b[0;34m\u001b[0m\u001b[0;34m\u001b[0m\u001b[0m\n\u001b[0;32m--> 325\u001b[0;31m             \u001b[0;32mraise\u001b[0m \u001b[0mSerialException\u001b[0m\u001b[0;34m(\u001b[0m\u001b[0mmsg\u001b[0m\u001b[0;34m.\u001b[0m\u001b[0merrno\u001b[0m\u001b[0;34m,\u001b[0m \u001b[0;34m\"could not open port {}: {}\"\u001b[0m\u001b[0;34m.\u001b[0m\u001b[0mformat\u001b[0m\u001b[0;34m(\u001b[0m\u001b[0mself\u001b[0m\u001b[0;34m.\u001b[0m\u001b[0m_port\u001b[0m\u001b[0;34m,\u001b[0m \u001b[0mmsg\u001b[0m\u001b[0;34m)\u001b[0m\u001b[0;34m)\u001b[0m\u001b[0;34m\u001b[0m\u001b[0;34m\u001b[0m\u001b[0m\n\u001b[0m\u001b[1;32m    326\u001b[0m         \u001b[0;31m#~ fcntl.fcntl(self.fd, fcntl.F_SETFL, 0)  # set blocking\u001b[0m\u001b[0;34m\u001b[0m\u001b[0;34m\u001b[0m\u001b[0m\n\u001b[1;32m    327\u001b[0m \u001b[0;34m\u001b[0m\u001b[0m\n",
            "\u001b[0;31mSerialException\u001b[0m: [Errno 2] could not open port COM2: [Errno 2] No such file or directory: 'COM2'"
          ]
        }
      ]
    },
    {
      "cell_type": "code",
      "source": [],
      "metadata": {
        "id": "e_w1G83cI7yO"
      },
      "execution_count": null,
      "outputs": []
    }
  ]
}